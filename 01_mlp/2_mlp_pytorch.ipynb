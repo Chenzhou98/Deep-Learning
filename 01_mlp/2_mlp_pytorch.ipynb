{
 "cells": [
  {
   "cell_type": "markdown",
   "metadata": {
    "deletable": false,
    "editable": false,
    "nbgrader": {
     "cell_type": "markdown",
     "checksum": "e1a13eb9761f9142ab7535d18938c8d4",
     "grade": false,
     "grade_id": "cell-0a8316b039d048ad",
     "locked": true,
     "schema_version": 3,
     "solution": false
    }
   },
   "source": [
    "<div class=\"alert alert-block alert-info\">\n",
    "<b>Deadline:</b> March 9, 2022 (Wednesday) 23:00\n",
    "</div>\n",
    "\n",
    "# Exercise 2. Train a multilayer perceptron (MLP) with pytorch.\n",
    "\n",
    "The goal of this exercise is to get familiar with the basics of PyTorch and train a multilayer perceptron (MLP) model.\n",
    "\n",
    "If you are not familiar with PyTorch, there is a number of good tutorials [here](https://pytorch.org/tutorials/index.html). We recommend the following ones:\n",
    "* [What is PyTorch?](https://pytorch.org/tutorials/beginner/blitz/tensor_tutorial.html#sphx-glr-beginner-blitz-tensor-tutorial-py)\n",
    "* [Autograd: Automatic Differentiation](https://pytorch.org/tutorials/beginner/blitz/autograd_tutorial.html#sphx-glr-beginner-blitz-autograd-tutorial-py)\n",
    "* [Learning PyTorch with Examples](https://pytorch.org/tutorials/beginner/pytorch_with_examples.html)\n",
    "* [Neural Networks](https://pytorch.org/tutorials/beginner/blitz/neural_networks_tutorial.html#sphx-glr-beginner-blitz-neural-networks-tutorial-py)"
   ]
  },
  {
   "cell_type": "code",
   "execution_count": 1,
   "metadata": {},
   "outputs": [],
   "source": [
    "skip_training = True  # Set this flag to True before validation and submission"
   ]
  },
  {
   "cell_type": "code",
   "execution_count": 2,
   "metadata": {
    "deletable": false,
    "editable": false,
    "nbgrader": {
     "cell_type": "code",
     "checksum": "8c5683b91a5445260920932991bc147f",
     "grade": true,
     "grade_id": "cell-fc22c3195a806c1d",
     "locked": true,
     "points": 0,
     "schema_version": 3,
     "solution": false,
     "task": false
    }
   },
   "outputs": [],
   "source": [
    "# During evaluation, this cell sets skip_training to True\n",
    "# skip_training = True"
   ]
  },
  {
   "cell_type": "code",
   "execution_count": 3,
   "metadata": {},
   "outputs": [],
   "source": [
    "import os\n",
    "import numpy as np\n",
    "import pandas as pd\n",
    "import matplotlib.pyplot as plt\n",
    "%matplotlib inline\n",
    "\n",
    "import torch\n",
    "import torch.nn as nn\n",
    "import torch.nn.functional as F\n",
    "\n",
    "import tools"
   ]
  },
  {
   "cell_type": "code",
   "execution_count": 4,
   "metadata": {},
   "outputs": [],
   "source": [
    "# Select device which you are going to use for training\n",
    "#device = torch.device(\"cuda:0\")\n",
    "device = torch.device(\"cpu\")"
   ]
  },
  {
   "cell_type": "code",
   "execution_count": 5,
   "metadata": {
    "deletable": false,
    "editable": false,
    "nbgrader": {
     "cell_type": "code",
     "checksum": "fc5c0195206dae40876fe429916217c4",
     "grade": false,
     "grade_id": "cell-70232a39ccf9c751",
     "locked": true,
     "schema_version": 3,
     "solution": false
    }
   },
   "outputs": [],
   "source": [
    "if skip_training:\n",
    "    # The models are always evaluated on CPU\n",
    "    device = torch.device(\"cpu\")"
   ]
  },
  {
   "cell_type": "markdown",
   "metadata": {
    "deletable": false,
    "editable": false,
    "nbgrader": {
     "cell_type": "markdown",
     "checksum": "9a2f38426fa8e74a2489b7e50ee73dae",
     "grade": false,
     "grade_id": "cell-ce13efdf413792bd",
     "locked": true,
     "schema_version": 3,
     "solution": false
    }
   },
   "source": [
    "# Data\n",
    "\n",
    "We will train the MLP on a toy regression problem."
   ]
  },
  {
   "cell_type": "code",
   "execution_count": 6,
   "metadata": {
    "deletable": false,
    "editable": false,
    "nbgrader": {
     "cell_type": "code",
     "checksum": "63790836b90b400a18a2f7f590d222cc",
     "grade": false,
     "grade_id": "cell-c1dddacb4674e7d3",
     "locked": true,
     "schema_version": 3,
     "solution": false,
     "task": false
    }
   },
   "outputs": [
    {
     "data": {
      "text/plain": [
       "[<matplotlib.lines.Line2D at 0x7f405d0d8ca0>]"
      ]
     },
     "execution_count": 6,
     "metadata": {},
     "output_type": "execute_result"
    },
    {
     "data": {
      "image/png": "[encoded data removed]",
      "text/plain": [
       "<Figure size 432x288 with 1 Axes>"
      ]
     },
     "metadata": {
      "needs_background": "light"
     },
     "output_type": "display_data"
    }
   ],
   "source": [
    "# Generate toy data\n",
    "def get_data():\n",
    "    np.random.seed(2)\n",
    "    x = np.random.randn(100, 1)\n",
    "    x = np.sort(x, axis=0)\n",
    "\n",
    "    targets = 2 * np.sin(x * 2 * np.pi / 3)\n",
    "    targets = targets + 0.2 * np.random.randn(*targets.shape)\n",
    "\n",
    "    # Convert to PyTorch tensors\n",
    "    x = torch.FloatTensor(x)\n",
    "    targets = torch.FloatTensor(targets)\n",
    "    \n",
    "    return x, targets\n",
    "\n",
    "x, targets = get_data()\n",
    "# Plot the data\n",
    "fig, ax = plt.subplots(1)\n",
    "ax.plot(x, targets, '.')"
   ]
  },
  {
   "cell_type": "markdown",
   "metadata": {
    "deletable": false,
    "editable": false,
    "nbgrader": {
     "cell_type": "markdown",
     "checksum": "2ac336bd40ac754a5b9052b3213d18e3",
     "grade": false,
     "grade_id": "cell-76070c68689a5242",
     "locked": true,
     "schema_version": 3,
     "solution": false
    }
   },
   "source": [
    "# Multilayer perceptron (MLP) network with two hidden layers\n",
    "\n",
    "We will create a simple multilayer perceptron (MLP) network. The model has\n",
    "- input dimensionality 1\n",
    "- one hidden layer with 10 units with Tanh nonlinearity\n",
    "- one hidden layer with 11 units with Tanh nonlinearity\n",
    "- linear output layer with output dimensionality 1 and no nonlinearity.\n",
    "\n",
    "Hints:\n",
    "* You may want to look at [this tutorial](https://pytorch.org/tutorials/beginner/blitz/neural_networks_tutorial.html#sphx-glr-beginner-blitz-neural-networks-tutorial-py) for reference.\n",
    "* You can use [`nn.Linear`](https://pytorch.org/docs/stable/nn.html?highlight=nn%20linear#torch.nn.Linear)\n",
    "module to define the fully-connected layers of the MLP.\n",
    "* Simple architectures are usually created using module [`torch.nn.Sequential`](https://pytorch.org/docs/stable/nn.html#torch.nn.Sequential). You do not have to use this module in this exercise."
   ]
  },
  {
   "cell_type": "code",
   "execution_count": 7,
   "metadata": {
    "deletable": false,
    "nbgrader": {
     "cell_type": "code",
     "checksum": "5c2e73b08c5408836f1d121167189b84",
     "grade": false,
     "grade_id": "MLP",
     "locked": false,
     "schema_version": 3,
     "solution": true
    }
   },
   "outputs": [],
   "source": [
    "class MLP(nn.Module):\n",
    "    def __init__(self, n_inputs=1):\n",
    "        # YOUR CODE HERE\n",
    "        super(MLP, self).__init__()\n",
    "        self.L1=nn.Linear(n_inputs,10)\n",
    "        self.A1=nn.Tanh()\n",
    "        self.L2=nn.Linear(10,11)\n",
    "        self.A2=nn.Tanh()\n",
    "        self.L3=nn.Linear(11,1)\n",
    "        \n",
    "        #raise NotImplementedError()\n",
    "\n",
    "    def forward(self, x):\n",
    "        \"\"\"\n",
    "        Args:\n",
    "          x of shape (n_samples, n_inputs): Model inputs.\n",
    "        \n",
    "        Returns:\n",
    "          y of shape (n_samples, 1): Model outputs.\n",
    "        \"\"\"\n",
    "        # YOUR CODE HERE\n",
    "        #import pdb;pdb.set_trace()\n",
    "        h1=self.L1.forward(x)\n",
    "        h2=self.A1(h1)\n",
    "        h3=self.L2(h2)\n",
    "        h4=self.A2(h3)\n",
    "        h5=self.L3(h4)\n",
    "        y=h5\n",
    "        \n",
    "        return y\n",
    "        raise NotImplementedError()"
   ]
  },
  {
   "cell_type": "code",
   "execution_count": 8,
   "metadata": {
    "deletable": false,
    "editable": false,
    "nbgrader": {
     "cell_type": "code",
     "checksum": "da9986dd90e949d8b1749a4f45ef48ff",
     "grade": false,
     "grade_id": "cell-1dcdd8e8bdecf07e",
     "locked": true,
     "schema_version": 3,
     "solution": false,
     "task": false
    }
   },
   "outputs": [
    {
     "name": "stdout",
     "output_type": "stream",
     "text": [
      "Success\n"
     ]
    }
   ],
   "source": [
    "# Let us create the network and make sure it can process a random input of the right shape\n",
    "def test_MLP_shapes():\n",
    "    n_inputs = 1\n",
    "    n_samples = 10\n",
    "    net = MLP()\n",
    "    y = net(torch.randn(n_samples, n_inputs))\n",
    "    assert y.shape == torch.Size([n_samples, 1]), f\"Bad y.shape={y.shape}\"\n",
    "    print('Success')\n",
    "\n",
    "test_MLP_shapes()"
   ]
  },
  {
   "cell_type": "markdown",
   "metadata": {
    "deletable": false,
    "editable": false,
    "nbgrader": {
     "cell_type": "markdown",
     "checksum": "36c312b3a24b530bd073e6b5996cbef2",
     "grade": false,
     "grade_id": "cell-70cbd420870116d7",
     "locked": true,
     "schema_version": 3,
     "solution": false
    }
   },
   "source": [
    "## Train the MLP network\n",
    "\n",
    "### Training loop\n",
    "\n",
    "Your task is to implement the training loop.\n",
    "You may find it useful to look at [this tutorial](https://pytorch.org/tutorials/beginner/blitz/neural_networks_tutorial.html#sphx-glr-beginner-blitz-neural-networks-tutorial-py).\n",
    "Your should have the following steps:\n",
    "* Set all gradient values to zeros.\n",
    "* Calculate the output of the model for all training examples.\n",
    "* Calculate the MSE loss (see [`mse_loss`](https://pytorch.org/docs/stable/nn.functional.html?highlight=mse_loss#torch.nn.functional.mse_loss)).\n",
    "* Backpropagate the gradients: compute the gradients of the loss wrt to all the parameters of the model.\n",
    "* Update the parameters of the model using the chosen optimizer.\n",
    "\n",
    "\n",
    "Recommended hyperparameters:\n",
    "* [Adam optimizer](https://pytorch.org/docs/stable/optim.html#torch.optim.Adam) with learning rate 0.01.\n",
    "* You can process the data in the full-batch model (computing the gradients using all training data).\n",
    "* Number of iterations (parameter updates): 200."
   ]
  },
  {
   "cell_type": "code",
   "execution_count": 9,
   "metadata": {
    "deletable": false,
    "editable": false,
    "nbgrader": {
     "cell_type": "code",
     "checksum": "2093029bcb3af8e8fed294511ebf6ce7",
     "grade": false,
     "grade_id": "cell-70f3840f16dc60f4",
     "locked": true,
     "schema_version": 3,
     "solution": false,
     "task": false
    }
   },
   "outputs": [
    {
     "data": {
      "text/plain": [
       "MLP(\n",
       "  (L1): Linear(in_features=1, out_features=10, bias=True)\n",
       "  (A1): Tanh()\n",
       "  (L2): Linear(in_features=10, out_features=11, bias=True)\n",
       "  (A2): Tanh()\n",
       "  (L3): Linear(in_features=11, out_features=1, bias=True)\n",
       ")"
      ]
     },
     "execution_count": 9,
     "metadata": {},
     "output_type": "execute_result"
    }
   ],
   "source": [
    "# Create the model\n",
    "model = MLP()\n",
    "model.to(device)"
   ]
  },
  {
   "cell_type": "code",
   "execution_count": 10,
   "metadata": {
    "code_folding": [],
    "deletable": false,
    "nbgrader": {
     "cell_type": "code",
     "checksum": "d9024f113b9988967e9b44d29edff745",
     "grade": false,
     "grade_id": "cell-692ef1b990bd1bbc",
     "locked": false,
     "schema_version": 3,
     "solution": true
    },
    "scrolled": true
   },
   "outputs": [],
   "source": [
    "# Implement the training loop here\n",
    "if not skip_training:\n",
    "    # YOUR CODE HERE\n",
    "    train_loader = torch.utils.data.DataLoader(x, batch_size = 100, num_workers = 0)\n",
    "    lossfunc = nn.MSELoss()\n",
    "    optimizer = torch.optim.Adam(params = model.parameters(), lr = 0.01)\n",
    "    n_epochs=200\n",
    "    #import pdb;pdb.set_trace()\n",
    "    \n",
    "    for epoch in range(n_epochs):\n",
    "        train_loss = 0.0\n",
    "        for x in train_loader:\n",
    "            optimizer.zero_grad()   \n",
    "            output = model(x)    \n",
    "            loss = lossfunc(output,targets)  \n",
    "            loss.backward()         \n",
    "            optimizer.step()        # update parameters \n",
    "            train_loss += loss.item()*x.size(0)\n",
    "        train_loss = train_loss / len(train_loader.dataset)\n",
    "    \n",
    "    #raise NotImplementedError()"
   ]
  },
  {
   "cell_type": "code",
   "execution_count": 11,
   "metadata": {},
   "outputs": [
    {
     "name": "stdout",
     "output_type": "stream",
     "text": [
      "Do you want to save the model (type yes to confirm)? yes\n",
      "Model saved to 2_mlp.pth.\n"
     ]
    }
   ],
   "source": [
    "# Save the model to disk (the pth-files will be submitted automatically together with your notebook)\n",
    "# Set confirm=False if you do not want to be asked for confirmation before saving.\n",
    "if not skip_training:\n",
    "    tools.save_model(model, '2_mlp.pth', confirm=True)"
   ]
  },
  {
   "cell_type": "code",
   "execution_count": 12,
   "metadata": {
    "deletable": false,
    "editable": false,
    "nbgrader": {
     "cell_type": "code",
     "checksum": "a479b450c77592013bd17b42104db2e3",
     "grade": false,
     "grade_id": "cell-1bb60a1b8347c2fd",
     "locked": true,
     "schema_version": 3,
     "solution": false,
     "task": false
    }
   },
   "outputs": [],
   "source": [
    "if skip_training:\n",
    "    model = MLP()\n",
    "    tools.load_model(model, '2_mlp.pth', device)"
   ]
  },
  {
   "cell_type": "code",
   "execution_count": 13,
   "metadata": {
    "deletable": false,
    "editable": false,
    "nbgrader": {
     "cell_type": "code",
     "checksum": "4afcb8c53237daf157efc9a2e2861672",
     "grade": false,
     "grade_id": "cell-6cc93c7d4b832ba6",
     "locked": true,
     "schema_version": 3,
     "solution": false,
     "task": false
    }
   },
   "outputs": [
    {
     "data": {
      "image/png": "[encoded data removed]",
      "text/plain": [
       "<Figure size 432x288 with 1 Axes>"
      ]
     },
     "metadata": {
      "needs_background": "light"
     },
     "output_type": "display_data"
    }
   ],
   "source": [
    "# Plot the trained MLP\n",
    "with torch.no_grad():\n",
    "    fig, ax = plt.subplots(1)\n",
    "    ax.plot(x, targets, '.')\n",
    "    y = model(x)\n",
    "    ax.plot(x, y.numpy(), 'r-')\n",
    "    ax.grid(True)"
   ]
  },
  {
   "cell_type": "code",
   "execution_count": 14,
   "metadata": {
    "deletable": false,
    "editable": false,
    "nbgrader": {
     "cell_type": "code",
     "checksum": "cefde213839fc24fdd9453cc2385f4d4",
     "grade": true,
     "grade_id": "test_MLP",
     "locked": true,
     "points": 0.5,
     "schema_version": 3,
     "solution": false,
     "task": false
    }
   },
   "outputs": [],
   "source": [
    "# This cell tests MLP"
   ]
  },
  {
   "cell_type": "code",
   "execution_count": 15,
   "metadata": {
    "deletable": false,
    "editable": false,
    "nbgrader": {
     "cell_type": "code",
     "checksum": "30558e8fb8665a08dcfde95dfe39aea8",
     "grade": true,
     "grade_id": "cell-c3f1ecd7b05a123f",
     "locked": true,
     "points": 1.5,
     "schema_version": 3,
     "solution": false,
     "task": false
    }
   },
   "outputs": [],
   "source": [
    "# This cell tests MLP"
   ]
  },
  {
   "cell_type": "code",
   "execution_count": 16,
   "metadata": {
    "deletable": false,
    "editable": false,
    "nbgrader": {
     "cell_type": "code",
     "checksum": "9203a73fb83ebf2a79b460fc84473fe4",
     "grade": true,
     "grade_id": "cell-1de0a9189c06555f",
     "locked": true,
     "points": 0,
     "schema_version": 3,
     "solution": false,
     "task": false
    }
   },
   "outputs": [],
   "source": [
    "# This cell is used for grading"
   ]
  },
  {
   "cell_type": "markdown",
   "metadata": {
    "deletable": false,
    "editable": false,
    "nbgrader": {
     "cell_type": "markdown",
     "checksum": "fe8c90aff2556fca72a2be36d9031a56",
     "grade": false,
     "grade_id": "cell-cbad9aad96626cec",
     "locked": true,
     "schema_version": 3,
     "solution": false,
     "task": false
    }
   },
   "source": [
    "<div class=\"alert alert-block alert-info\">\n",
    "<b>Conclusions</b>\n",
    "</div>\n",
    "\n",
    "Now you have trained an MLP network using PyTorch. You can see how PyTorch makes it easier to implement and train deep learning models."
   ]
  }
 ],
 "metadata": {
  "kernelspec": {
   "display_name": "Python 3",
   "language": "python",
   "name": "python3"
  },
  "language_info": {
   "codemirror_mode": {
    "name": "ipython",
    "version": 3
   },
   "file_extension": ".py",
   "mimetype": "text/x-python",
   "name": "python",
   "nbconvert_exporter": "python",
   "pygments_lexer": "ipython3",
   "version": "3.9.5"
  },
  "varInspector": {
   "cols": {
    "lenName": 16,
    "lenType": 16,
    "lenVar": 40
   },
   "kernels_config": {
    "python": {
     "delete_cmd_postfix": "",
     "delete_cmd_prefix": "del ",
     "library": "var_list.py",
     "varRefreshCmd": "print(var_dic_list())"
    },
    "r": {
     "delete_cmd_postfix": ") ",
     "delete_cmd_prefix": "rm(",
     "library": "var_list.r",
     "varRefreshCmd": "cat(var_dic_list()) "
    }
   },
   "types_to_exclude": [
    "module",
    "function",
    "builtin_function_or_method",
    "instance",
    "_Feature"
   ],
   "window_display": false
  }
 },
 "nbformat": 4,
 "nbformat_minor": 2
}
