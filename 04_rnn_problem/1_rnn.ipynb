{
 "cells": [
  {
   "cell_type": "markdown",
   "metadata": {
    "deletable": false,
    "editable": false,
    "nbgrader": {
     "cell_type": "markdown",
     "checksum": "f2789d735a9c9aa1457ec2fce57f3a3a",
     "grade": false,
     "grade_id": "cell-f5e46023398b0aab",
     "locked": true,
     "schema_version": 3,
     "solution": false
    }
   },
   "source": [
    "<div class=\"alert alert-block alert-info\">\n",
    "<b>Deadline:</b> March 30, 2022 (Wednesday) 23:00\n",
    "</div>\n",
    "\n",
    "# Exercise 1. Sequence-to-sequence modeling with recurrent neural networks\n",
    "\n",
    "The goals of this exercise are\n",
    "* to get familiar with recurrent neural networks used for sequential data processing\n",
    "* to get familiar with the sequence-to-sequence model for machine translation\n",
    "* to learn PyTorch tools for batch processing of sequences with varying lengths\n",
    "* to learn how to write a custom `DataLoader`\n",
    "\n",
    "You may find it useful to look at this tutorial:\n",
    "* [Translation with a Sequence to Sequence Network and Attention](https://pytorch.org/tutorials/intermediate/seq2seq_translation_tutorial.html)"
   ]
  },
  {
   "cell_type": "code",
   "execution_count": 1,
   "metadata": {},
   "outputs": [],
   "source": [
    "skip_training = False  # Set this flag to True before validation and submission"
   ]
  },
  {
   "cell_type": "code",
   "execution_count": 2,
   "metadata": {
    "deletable": false,
    "editable": false,
    "nbgrader": {
     "cell_type": "code",
     "checksum": "9cc4d569dc32e40fe066146a07b7c7b7",
     "grade": true,
     "grade_id": "evaluation_settings",
     "locked": true,
     "points": 0,
     "schema_version": 3,
     "solution": false
    }
   },
   "outputs": [],
   "source": [
    "# During evaluation, this cell sets skip_training to True\n",
    "# skip_training = True\n",
    "\n",
    "import tools, warnings\n",
    "warnings.showwarning = tools.customwarn"
   ]
  },
  {
   "cell_type": "code",
   "execution_count": 3,
   "metadata": {},
   "outputs": [],
   "source": [
    "import os\n",
    "import random\n",
    "import numpy as np\n",
    "\n",
    "import torch\n",
    "import torch.nn as nn\n",
    "import torch.optim as optim\n",
    "import torch.nn.functional as F\n",
    "from torch.nn.utils.rnn import pack_padded_sequence, pad_packed_sequence\n",
    "from torch.utils.data import DataLoader\n",
    "\n",
    "import tools\n",
    "import tests"
   ]
  },
  {
   "cell_type": "code",
   "execution_count": 4,
   "metadata": {},
   "outputs": [
    {
     "name": "stdout",
     "output_type": "stream",
     "text": [
      "The data directory is /coursedata\n"
     ]
    }
   ],
   "source": [
    "# When running on your own computer, you can specify the data directory by:\n",
    "# data_dir = tools.select_data_dir('/your/local/data/directory')\n",
    "data_dir = tools.select_data_dir()"
   ]
  },
  {
   "cell_type": "code",
   "execution_count": 5,
   "metadata": {},
   "outputs": [],
   "source": [
    "# Select the device for training (use GPU if you have one)\n",
    "#device = torch.device('cuda:0')\n",
    "device = torch.device('cpu')"
   ]
  },
  {
   "cell_type": "code",
   "execution_count": 6,
   "metadata": {
    "deletable": false,
    "editable": false,
    "nbgrader": {
     "cell_type": "code",
     "checksum": "dbbca8fe9cf0cb1cb20dd200e23cfcb0",
     "grade": false,
     "grade_id": "cell-44cf6f3242607cde",
     "locked": true,
     "schema_version": 3,
     "solution": false
    }
   },
   "outputs": [],
   "source": [
    "if skip_training:\n",
    "    # The models are always evaluated on CPU\n",
    "    device = torch.device(\"cpu\")"
   ]
  },
  {
   "cell_type": "markdown",
   "metadata": {
    "deletable": false,
    "editable": false,
    "nbgrader": {
     "cell_type": "markdown",
     "checksum": "88cb529e1e7d2069f68d3df82a852cce",
     "grade": false,
     "grade_id": "cell-1f1e529682d7ce6d",
     "locked": true,
     "schema_version": 3,
     "solution": false
    }
   },
   "source": [
    "## Data\n",
    "\n",
    "The dataset that we are going to use consists of pairs of sentences in French and English."
   ]
  },
  {
   "cell_type": "code",
   "execution_count": 7,
   "metadata": {
    "deletable": false,
    "editable": false,
    "nbgrader": {
     "cell_type": "code",
     "checksum": "aa7408c0ea947cac397f5e35ce6498ee",
     "grade": false,
     "grade_id": "cell-6638bcc556bb02f2",
     "locked": true,
     "schema_version": 3,
     "solution": false,
     "task": false
    }
   },
   "outputs": [],
   "source": [
    "from data import TranslationDataset, MAX_LENGTH, SOS_token, EOS_token\n",
    "\n",
    "trainset = TranslationDataset(data_dir, train=True)"
   ]
  },
  {
   "cell_type": "markdown",
   "metadata": {
    "deletable": false,
    "editable": false,
    "nbgrader": {
     "cell_type": "markdown",
     "checksum": "ac3d437d5ade200a6ff8ca5407bf2c01",
     "grade": false,
     "grade_id": "cell-2d3c1dd7e239d2fa",
     "locked": true,
     "schema_version": 3,
     "solution": false,
     "task": false
    }
   },
   "source": [
    "* `TranslationDataset` supports indexing as required by `torch.utils.data.Dataset`.\n",
    "* Sentences are tensors of maximum length `MAX_LENGTH`.\n",
    "* Words in a (sentence) tensor are represented as an index (integer) in a language vocabulary.\n",
    "* The string representation of a word from the source language can be obtained from index `i` with `dataset.input_lang.index2word[i]`.\n",
    "* Similarly for the target language `dataset.output_lang.index2word[j]`.\n",
    "\n",
    "Let us look at samples from that dataset."
   ]
  },
  {
   "cell_type": "code",
   "execution_count": 8,
   "metadata": {
    "deletable": false,
    "editable": false,
    "nbgrader": {
     "cell_type": "code",
     "checksum": "b55856502471f9f6a7f4a7f3699504b5",
     "grade": false,
     "grade_id": "cell-0d793aaf021670ff",
     "locked": true,
     "schema_version": 3,
     "solution": false,
     "task": false
    }
   },
   "outputs": [
    {
     "name": "stdout",
     "output_type": "stream",
     "text": [
      "Source sentence: \"vous etes rusees . EOS\"\n",
      "Sentence as tensor of word indices:\n",
      "tensor([118, 215, 853,   5,   1])\n",
      "Target sentence: \"you re crafty . EOS\"\n",
      "Sentence as tensor of word indices:\n",
      "tensor([130,  78, 454,   4,   1])\n"
     ]
    }
   ],
   "source": [
    "src_sentence, tgt_sentence = trainset[np.random.choice(len(trainset))]\n",
    "print('Source sentence: \"%s\"' % ' '.join(trainset.input_lang.index2word[i.item()] for i in src_sentence))\n",
    "print('Sentence as tensor of word indices:')\n",
    "print(src_sentence)\n",
    "\n",
    "print('Target sentence: \"%s\"' % ' '.join(trainset.output_lang.index2word[i.item()] for i in tgt_sentence))\n",
    "print('Sentence as tensor of word indices:')\n",
    "print(tgt_sentence)"
   ]
  },
  {
   "cell_type": "code",
   "execution_count": 9,
   "metadata": {
    "deletable": false,
    "editable": false,
    "nbgrader": {
     "cell_type": "code",
     "checksum": "0d8116da735b2c5503a947814fd393b0",
     "grade": false,
     "grade_id": "cell-94d57799bcd1786b",
     "locked": true,
     "schema_version": 3,
     "solution": false
    }
   },
   "outputs": [
    {
     "name": "stdout",
     "output_type": "stream",
     "text": [
      "Number of source-target pairs in the training set:  8682\n"
     ]
    }
   ],
   "source": [
    "print('Number of source-target pairs in the training set: ', len(trainset))"
   ]
  },
  {
   "cell_type": "markdown",
   "metadata": {
    "deletable": false,
    "editable": false,
    "nbgrader": {
     "cell_type": "markdown",
     "checksum": "8c5eec5bf6f7b88396659a1cdc5faa2c",
     "grade": false,
     "grade_id": "cell-80e91375dcb62ed2",
     "locked": true,
     "schema_version": 3,
     "solution": false,
     "task": false
    }
   },
   "source": [
    "## Sequence-to-sequence model for machine translation\n",
    "\n",
    "In this exercise, we are going to build a machine translation system which transforms a sentence in one language into a sentence in another one. The computational graph of the translation model is shown below:\n",
    "\n",
    "<img src=\"seq2seq.png\" width=900>\n",
    "\n",
    "We are going to use a simplified model without the dotted connections."
   ]
  },
  {
   "cell_type": "markdown",
   "metadata": {
    "deletable": false,
    "editable": false,
    "nbgrader": {
     "cell_type": "markdown",
     "checksum": "f00d388d9b131f954d70a363b071d0f6",
     "grade": false,
     "grade_id": "cell-86482ed71ea81ed3",
     "locked": true,
     "schema_version": 3,
     "solution": false
    }
   },
   "source": [
    "## Custom DataLoader\n",
    "\n",
    "We would like to train the sequence-to-sequence model using mini-batch training.\n",
    "One difficulty of mini-batch training in this case is that sequences may have varying lengths and this has to be taken into account when building the computational graph. Luckily, PyTorch has tools to support batch processing of such sequences.\n",
    "To use those tools, we need to write a custom data loader which puts sequences of varying lengths in the same tensor. We can customize the data loader by providing a custom `collate_fn` as explained [here](https://pytorch.org/docs/stable/data.html#torch.utils.data.DataLoader).\n",
    "\n",
    "Our collate function:\n",
    "- combines sequences from the source language in a single tensor with extra values (at the end) filled with `PADDING_VALUE=0`.\n",
    "- combines sequences from the target language in a single tensor with extra values (at the end) filled with `PADDING_VALUE=0`.\n",
    "\n",
    "**Important**:\n",
    "- Later in the code (not in this `collate` function), we will convert source sequences to objects of class [`PackedSequence`](https://pytorch.org/docs/stable/nn.html?highlight=packedsequence#torch.nn.utils.rnn.PackedSequence) which can be processed by recurrent units such as `GRU` or `LSTM`. Conversion to `PackedSequence` objects requires sequences to be sorted by their lengths.\n",
    "**Therefore, the returned source sequences should be sorted by length in a decreasing order.**\n",
    "* The target sequences need not be sorted by their lengths because we have to keep the same order of sequences in the source and target tensors.\n",
    "\n",
    "Your task is to implement the collate function."
   ]
  },
  {
   "cell_type": "code",
   "execution_count": 10,
   "metadata": {
    "deletable": false,
    "editable": false,
    "nbgrader": {
     "cell_type": "code",
     "checksum": "523f0d6ef1a7a3716d4f0e47fe2ada46",
     "grade": false,
     "grade_id": "cell-f7cf358c436c6d49",
     "locked": true,
     "schema_version": 3,
     "solution": false,
     "task": false
    }
   },
   "outputs": [],
   "source": [
    "PADDING_VALUE = 0"
   ]
  },
  {
   "cell_type": "code",
   "execution_count": 11,
   "metadata": {},
   "outputs": [
    {
     "name": "stdout",
     "output_type": "stream",
     "text": [
      "tensor([1, 2])\n",
      "tensor([1, 2, 3, 4, 5])\n",
      "tensor([1, 2])\n",
      "tensor([1, 2]) tensor([3, 4, 5])\n",
      "test for function [tensor([1, 2]), tensor([6, 7, 8])]\n",
      "test for pad tensor([[1, 6],\n",
      "        [2, 7],\n",
      "        [0, 8]])\n"
     ]
    }
   ],
   "source": [
    "#my code  test\n",
    "from torch.nn.utils.rnn import pad_sequence\n",
    "pairs = [\n",
    "        (torch.LongTensor([1, 2]), torch.LongTensor([3, 4, 5])),\n",
    "        (torch.LongTensor([6, 7, 8]), torch.LongTensor([9, 10])),\n",
    "    ]\n",
    "print(pairs[0][0])\n",
    "test=torch.cat((pairs[0][0], pairs[0][1]),dim=0)\n",
    "print(test)\n",
    "#print(test.reshape(3,2))\n",
    "#len(test)\n",
    "len(pairs)\n",
    "print(pairs[0][0])\n",
    "a=pairs[0][0].clone()\n",
    "b=pairs[0][1].clone()\n",
    "\n",
    "print(a,b)\n",
    "src_seqs = [sample[0] for sample in pairs]\n",
    "print(\"test for function\",src_seqs)\n",
    "src_seqs = pad_sequence(src_seqs)\n",
    "print(\"test for pad\",src_seqs)"
   ]
  },
  {
   "cell_type": "code",
   "execution_count": 12,
   "metadata": {
    "deletable": false,
    "nbgrader": {
     "cell_type": "code",
     "checksum": "d791959e8c9e2b324dec5a664ab99b26",
     "grade": false,
     "grade_id": "collate",
     "locked": false,
     "schema_version": 3,
     "solution": true,
     "task": false
    }
   },
   "outputs": [],
   "source": [
    "from torch.nn.utils.rnn import pad_sequence\n",
    "\n",
    "def collate(list_of_samples):\n",
    "    \"\"\"Merges a list of samples to form a mini-batch.\n",
    "\n",
    "    Args:\n",
    "      list_of_samples is a list of tuples (src_seq, tgt_seq):\n",
    "          src_seq is of shape (src_seq_length,)\n",
    "          tgt_seq is of shape (tgt_seq_length,)\n",
    "\n",
    "    Returns:\n",
    "      src_seqs of shape (max_src_seq_length, batch_size): Tensor of padded source sequences.\n",
    "          The sequences should be sorted by length in a decreasing order, that is src_seqs[:,0] should be\n",
    "          the longest sequence, and src_seqs[:,-1] should be the shortest.\n",
    "      src_seq_lengths: List of lengths of source sequences.\n",
    "      tgt_seqs of shape (max_tgt_seq_length, batch_size): Tensor of padded target sequences.\n",
    "    \"\"\"\n",
    "    # YOUR CODE HERE\n",
    "    \n",
    "    #padnp=np.array([PADDING_VALUE])\n",
    "    #padding= torch.LongTensor(padnp)\n",
    "    \n",
    "    #temp=torch.cat((list_of_samples[0][0], padding),dim=0)\n",
    "    #print(temp)\n",
    "    #src_seqs=torch.stack([list_of_samples[1][0],temp], dim=1)\n",
    "    \n",
    "    #print(\"sorted:  \",src_seqs)\n",
    "  \n",
    "    #print(src_seq_lengths,type(src_seq_lengths))\n",
    "        \n",
    "    #temp=torch.cat((list_of_samples[1][1], padding),dim=0)\n",
    "    #print(temp)\n",
    "    #tgt_seqs=torch.stack((temp,list_of_samples[0][1]),dim=1)\n",
    "    \n",
    "    #print(tgt_seqs)\n",
    "    \n",
    "    \n",
    "    \n",
    "    \n",
    "    src_seqs = list_of_samples[0]\n",
    "    print(\"src_origin\",src_seqs)\n",
    "    \n",
    "    src_seqs = sorted(list_of_samples[0],key=lambda x: len(x) ,reverse=True)\n",
    "    print(\"src_sorted\",src_seqs)\n",
    "    \n",
    "    src_seq_lengths =[len(i) for i in src_seqs]\n",
    "    src_seqs = pad_sequence(src_seqs)\n",
    "    print(\"src_pad\",src_seqs)\n",
    "    tgt_seqs = list_of_samples[1]\n",
    "    print(\"tgt_origin\",tgt_seqs)\n",
    "    tgt_seqs = pad_sequence(tgt_seqs)\n",
    "    print(\"tgt_pad\",tgt_seqs)\n",
    "    \n",
    "    return src_seqs, src_seq_lengths, tgt_seqs\n",
    "    raise NotImplementedError()"
   ]
  },
  {
   "cell_type": "code",
   "execution_count": 13,
   "metadata": {
    "deletable": false,
    "editable": false,
    "nbgrader": {
     "cell_type": "code",
     "checksum": "e4556bc267765daec3cd760ab352b33a",
     "grade": false,
     "grade_id": "cell-946d5fa69247a122",
     "locked": true,
     "schema_version": 3,
     "solution": false,
     "task": false
    }
   },
   "outputs": [
    {
     "name": "stdout",
     "output_type": "stream",
     "text": [
      "src_origin (tensor([1, 2]), tensor([3, 4, 5]))\n",
      "src_sorted [tensor([3, 4, 5]), tensor([1, 2])]\n",
      "src_pad tensor([[3, 1],\n",
      "        [4, 2],\n",
      "        [5, 0]])\n",
      "tgt_origin (tensor([6, 7, 8]), tensor([ 9, 10]))\n",
      "tgt_pad tensor([[ 6,  9],\n",
      "        [ 7, 10],\n",
      "        [ 8,  0]])\n",
      "Success\n"
     ]
    }
   ],
   "source": [
    "def test_collate_shapes():\n",
    "    pairs = [\n",
    "        (torch.LongTensor([1, 2]), torch.LongTensor([3, 4, 5])),\n",
    "        (torch.LongTensor([6, 7, 8]), torch.LongTensor([9, 10])),\n",
    "    ]\n",
    "    pad_src_seqs, src_seq_lengths, pad_tgt_seqs = collate(pairs)\n",
    "    assert type(src_seq_lengths) == list, \"src_seq_lengths should be a list.\"\n",
    "    assert pad_src_seqs.shape == torch.Size([3, 2]), f\"Bad pad_src_seqs.shape: {pad_src_seqs.shape}\"\n",
    "    assert pad_src_seqs.dtype == torch.long\n",
    "    assert pad_tgt_seqs.shape == torch.Size([3, 2]), f\"Bad pad_tgt_seqs.shape: {pad_tgt_seqs.shape}\"\n",
    "    assert pad_tgt_seqs.dtype == torch.long\n",
    "    print('Success')\n",
    "\n",
    "test_collate_shapes()"
   ]
  },
  {
   "cell_type": "code",
   "execution_count": 14,
   "metadata": {
    "deletable": false,
    "editable": false,
    "nbgrader": {
     "cell_type": "code",
     "checksum": "c7f371320f69fbb2a05acb069a558a74",
     "grade": true,
     "grade_id": "test_collate_fn",
     "locked": true,
     "points": 1,
     "schema_version": 3,
     "solution": false,
     "task": false
    }
   },
   "outputs": [
    {
     "ename": "SyntaxError",
     "evalue": "invalid syntax (3194508349.py, line 1)",
     "output_type": "error",
     "traceback": [
      "\u001b[0;36m  Input \u001b[0;32mIn [14]\u001b[0;36m\u001b[0m\n\u001b[0;31m    list indices must be integers or slices, not tuple# This cell tests collate() function\u001b[0m\n\u001b[0m         ^\u001b[0m\n\u001b[0;31mSyntaxError\u001b[0m\u001b[0;31m:\u001b[0m invalid syntax\n"
     ]
    }
   ],
   "source": [
    "list indices must be integers or slices, not tuple# This cell tests collate() function"
   ]
  },
  {
   "cell_type": "code",
   "execution_count": 15,
   "metadata": {
    "deletable": false,
    "editable": false,
    "nbgrader": {
     "cell_type": "code",
     "checksum": "4dc67bc5d1c00931a6cb4a0fdf840b71",
     "grade": false,
     "grade_id": "cell-b4fb631ef92b42cd",
     "locked": true,
     "schema_version": 3,
     "solution": false
    }
   },
   "outputs": [],
   "source": [
    "# We create custom DataLoader using the implemented collate function\n",
    "# We are going to process 64 sequences at the same time (batch_size=64)\n",
    "trainloader = DataLoader(dataset=trainset, batch_size=64, shuffle=True, collate_fn=collate, pin_memory=True)"
   ]
  },
  {
   "cell_type": "markdown",
   "metadata": {
    "deletable": false,
    "editable": false,
    "nbgrader": {
     "cell_type": "markdown",
     "checksum": "ea1cc5c8b8d4736b25686e444c996848",
     "grade": false,
     "grade_id": "cell-3f6dfc8dc7015270",
     "locked": true,
     "schema_version": 3,
     "solution": false
    }
   },
   "source": [
    "## Encoder\n",
    "\n",
    "The encoder encodes a source sequence $(x_1, x_2, ..., x_T)$ into a single vector $h_T$ using the following recursion:\n",
    "$$\n",
    "  h_{t} = f(h_{t-1}, x_t) \\qquad t = 1, \\ldots, T\n",
    "$$\n",
    "where:\n",
    "* intial state $h_0$ is often chosen arbitrarily (we choose it to be zero)\n",
    "* function $f$ is defined by the type of the RNN cell (in our experiments, we will use [GRU](https://pytorch.org/docs/stable/nn.html#torch.nn.GRU))\n",
    "* $x_t$ is a vector that represents the $t$-th word in the source sentence.\n",
    "\n",
    "A common practice in natural language processing is to _learn_ the word representations $x_t$ (instead of, for example, using one-hot coded vectors). In PyTorch, this is supported by class [Embedding](https://pytorch.org/docs/stable/nn.html#torch.nn.Embedding) which we are going to use.\n",
    "\n",
    "The computational graph of the encoder is shown below:\n",
    "\n",
    "<img src=\"seq2seq_encoder.png\" width=500>\n",
    "\n",
    "Your task is to implement the `forward` function of the encoder. It should contain the following steps:\n",
    "* Embed the words of the source sequences.\n",
    "* Pack source sequences using [`pack_padded_sequence`](https://pytorch.org/docs/stable/nn.html?highlight=pack_padded_sequence#torch.nn.utils.rnn.pack_padded_sequence). This converts padded source sequences into an object that can be processed by PyTorch recurrent units such as `nn.GRU` or `nn.LSTM`.\n",
    "* Apply GRU computations to packed sequences obtained in the previous step\n",
    "* Convert packed sequence of GRU outputs into padded representation with [`pad_packed_sequence`](https://pytorch.org/docs/stable/nn.html?highlight=pad_packed_sequence#torch.nn.utils.rnn.pad_packed_sequence)."
   ]
  },
  {
   "cell_type": "code",
   "execution_count": 16,
   "metadata": {
    "deletable": false,
    "nbgrader": {
     "cell_type": "code",
     "checksum": "8ad27026a59c87defe4742f2afbcabd4",
     "grade": false,
     "grade_id": "Encoder",
     "locked": false,
     "schema_version": 3,
     "solution": true
    }
   },
   "outputs": [],
   "source": [
    "class Encoder(nn.Module):\n",
    "    def __init__(self, src_dictionary_size, embed_size, hidden_size):\n",
    "        \"\"\"\n",
    "        Args:\n",
    "          src_dictionary_size: The number of words in the source dictionary.\n",
    "          embed_size: The number of dimensions in the word embeddings.\n",
    "          hidden_size: The number of features in the hidden state of GRU.\n",
    "        \"\"\"\n",
    "        super(Encoder, self).__init__()\n",
    "        self.hidden_size = hidden_size\n",
    "        self.embedding = nn.Embedding(src_dictionary_size, embed_size)\n",
    "        self.gru = nn.GRU(input_size=embed_size, hidden_size=hidden_size)\n",
    "\n",
    "    def forward(self, pad_seqs, seq_lengths, hidden):\n",
    "        \"\"\"\n",
    "        Args:\n",
    "          pad_seqs of shape (max_seq_length, batch_size): Padded source sequences.\n",
    "          seq_lengths: List of sequence lengths.\n",
    "          hidden of shape (1, batch_size, hidden_size): Initial states of the GRU.\n",
    "\n",
    "        Returns:\n",
    "          outputs of shape (max_seq_length, batch_size, hidden_size): Padded outputs of GRU at every step.\n",
    "          hidden of shape (1, batch_size, hidden_size): Updated states of the GRU.\n",
    "        \"\"\"\n",
    "        # YOUR CODE HERE\n",
    "\n",
    "        embedded = self.embedding(pad_seqs) \n",
    "        seq_pack=pack_padded_sequence(embedded,seq_lengths)\n",
    "        print(\"seq_pack\",seq_pack)\n",
    "        output, hidden = self.gru(seq_pack, hidden)\n",
    "        print(\"output1\",output)\n",
    "        output= pad_packed_sequence(output)[0]\n",
    "        print(\"output2\",output)\n",
    "        \n",
    "        return output, hidden\n",
    "        raise NotImplementedError()\n",
    "\n",
    "    def init_hidden(self, batch_size=1):\n",
    "        return torch.zeros(1, batch_size, self.hidden_size)"
   ]
  },
  {
   "cell_type": "code",
   "execution_count": 17,
   "metadata": {
    "deletable": false,
    "editable": false,
    "nbgrader": {
     "cell_type": "code",
     "checksum": "9b26ce62da6c7f9b9f9370cac4ebe9d6",
     "grade": false,
     "grade_id": "cell-33422e03c9970c2a",
     "locked": true,
     "schema_version": 3,
     "solution": false,
     "task": false
    }
   },
   "outputs": [
    {
     "name": "stdout",
     "output_type": "stream",
     "text": [
      "seq_pack PackedSequence(data=tensor([[ 0.2255, -0.3653,  0.1422,  0.6880, -0.0565, -0.4408,  1.2305,  0.0942,\n",
      "         -0.3216,  0.0971],\n",
      "        [-0.6234,  0.1280,  0.7172, -1.9170,  1.5535,  1.8419,  1.2268, -0.3613,\n",
      "         -1.0013,  0.0054],\n",
      "        [-0.6234,  0.1280,  0.7172, -1.9170,  1.5535,  1.8419,  1.2268, -0.3613,\n",
      "         -1.0013,  0.0054],\n",
      "        [ 0.2255, -0.3653,  0.1422,  0.6880, -0.0565, -0.4408,  1.2305,  0.0942,\n",
      "         -0.3216,  0.0971],\n",
      "        [ 0.8690,  0.3577,  0.5667,  0.7924,  0.7158,  0.1322, -1.3069, -1.1617,\n",
      "         -0.2814,  1.1468],\n",
      "        [ 0.2255, -0.3653,  0.1422,  0.6880, -0.0565, -0.4408,  1.2305,  0.0942,\n",
      "         -0.3216,  0.0971]], grad_fn=<PackPaddedSequenceBackward0>), batch_sizes=tensor([2, 2, 1, 1]), sorted_indices=None, unsorted_indices=None)\n",
      "output1 PackedSequence(data=tensor([[-0.0171, -0.4218, -0.2154],\n",
      "        [ 0.2970, -0.3088, -0.3348],\n",
      "        [ 0.2050, -0.3036, -0.5231],\n",
      "        [ 0.1211, -0.5981, -0.2194],\n",
      "        [ 0.0570, -0.4819, -0.3117],\n",
      "        [-0.0448, -0.6901, -0.2340]], grad_fn=<CatBackward0>), batch_sizes=tensor([2, 2, 1, 1]), sorted_indices=None, unsorted_indices=None)\n",
      "output2 tensor([[[-0.0171, -0.4218, -0.2154],\n",
      "         [ 0.2970, -0.3088, -0.3348]],\n",
      "\n",
      "        [[ 0.2050, -0.3036, -0.5231],\n",
      "         [ 0.1211, -0.5981, -0.2194]],\n",
      "\n",
      "        [[ 0.0570, -0.4819, -0.3117],\n",
      "         [ 0.0000,  0.0000,  0.0000]],\n",
      "\n",
      "        [[-0.0448, -0.6901, -0.2340],\n",
      "         [ 0.0000,  0.0000,  0.0000]]], grad_fn=<CopySlices>)\n",
      "Success\n"
     ]
    }
   ],
   "source": [
    "def test_Encoder_shapes():\n",
    "    hidden_size = 3\n",
    "    encoder = Encoder(src_dictionary_size=5, embed_size=10, hidden_size=hidden_size)\n",
    "\n",
    "    max_seq_length = 4\n",
    "    batch_size = 2\n",
    "    hidden = encoder.init_hidden(batch_size=batch_size)\n",
    "    pad_seqs = torch.tensor([\n",
    "        [        1,             2],\n",
    "        [        2,     EOS_token],\n",
    "        [        3, PADDING_VALUE],\n",
    "        [EOS_token, PADDING_VALUE]\n",
    "    ])\n",
    "\n",
    "    outputs, new_hidden = encoder.forward(pad_seqs=pad_seqs, seq_lengths=[4, 2], hidden=hidden)\n",
    "    assert outputs.shape == torch.Size([4, batch_size, hidden_size]), f\"Bad outputs.shape: {outputs.shape}\"\n",
    "    assert new_hidden.shape == torch.Size([1, batch_size, hidden_size]), f\"Bad new_hidden.shape: {new_hidden.shape}\"\n",
    "    print('Success')\n",
    "\n",
    "test_Encoder_shapes()"
   ]
  },
  {
   "cell_type": "code",
   "execution_count": 18,
   "metadata": {
    "deletable": false,
    "editable": false,
    "nbgrader": {
     "cell_type": "code",
     "checksum": "c612bae3dc4da49e7e1a885df23acac7",
     "grade": true,
     "grade_id": "test_Encoder",
     "locked": true,
     "points": 1,
     "schema_version": 3,
     "solution": false,
     "task": false
    }
   },
   "outputs": [],
   "source": [
    "# This cell tests Encoder"
   ]
  },
  {
   "cell_type": "markdown",
   "metadata": {
    "deletable": false,
    "editable": false,
    "nbgrader": {
     "cell_type": "markdown",
     "checksum": "078cb4df64e3607355197dff52f07d9a",
     "grade": false,
     "grade_id": "cell-3133e50590987e56",
     "locked": true,
     "schema_version": 3,
     "solution": false
    }
   },
   "source": [
    "## Decoder\n",
    "\n",
    "The decoder takes as input the representation computed by the encoder and transforms it into a sentence in the target language. The computational graph of the decoder is shown below:\n",
    "\n",
    "<img src=\"seq2seq_decoder.png\" width=500 align=\"top\">\n",
    "\n",
    "* $z_0$ is the output of the encoder, that is $z_0 = h_5$, thus `hidden_size` of the decoder should be the same as `hidden_size` of the encoder.\n",
    "* $y_{i}$ are the log-probabilities of the words in the target language, the dimensionality of $y_{i}$ is the size of the target dictionary.\n",
    "* $z_{i}$ is mapped to $y_{i}$ using a linear layer `self.out` followed by `F.log_softmax` (because we use `nn.NLLLoss` loss for training).\n",
    "* Each cell of the decoder is a GRU, it receives as inputs the previous state $z_{i-1}$ and relu of the **embedding** of the previous word. Thus, you need to embed the words of the target language as well. The previous word is taken as the word with the maximum log-probability.\n",
    "\n",
    "Note that the decoder outputs a word at every step and the same word is used as the input to the recurrent unit at the next step. At the beginning of decoding, the previous word input is fed with a special word SOS which stands for \"start of a sentence\". During training, we know the target sentence for decoding, therefore we can feed the correct words $y_i$ as inputs to the recurrent unit.\n",
    "\n",
    "There is one extra thing that it is wise to take care of. When the target sentence is fed to the decoder during training, the decoder learns to generate only the next word (this scenario is called \"teacher forcing\"). At test time, the decoder works differently: it generates the whole sequence using its own predictions as inputs at each step. Therefore, it makes sense to train the decoder to produce full sentences. In order to do that, we will alternate between two modes during training:\n",
    "* \"teacher forcing\": the decoder is fed with the words in the target sequence\n",
    "* no \"teacher forcing\": the decoder generates the output sequence using its own predictions. In this case, we will generate sequences of the same length as the length of the longest sequence in `pad_tgt_seqs` (if `pad_tgt_seqs` is not `None`) or of length `MAX_LENGTH` (if `pad_tgt_seqs` is `None`).\n",
    "\n",
    "You need to implement the decoder which has the structure shown in the figure above.\n",
    "\n",
    "Notes:\n",
    "* `SOS_token` is imported at the beginning of the notebook.\n",
    "* **Running this code on GPU sometimes fails producing a CUDA error (if you know the reason, please let us know).** If this happens to you, please train the model on CPU."
   ]
  },
  {
   "cell_type": "code",
   "execution_count": 19,
   "metadata": {
    "deletable": false,
    "nbgrader": {
     "cell_type": "code",
     "checksum": "70b2c4f47ee96519de22564de0a2f192",
     "grade": false,
     "grade_id": "Decoder",
     "locked": false,
     "schema_version": 3,
     "solution": true
    }
   },
   "outputs": [],
   "source": [
    "class Decoder(nn.Module):\n",
    "    def __init__(self, tgt_dictionary_size, embed_size, hidden_size):\n",
    "        \"\"\"\n",
    "        Args:\n",
    "          tgt_dictionary_size: The number of words in the target dictionary.\n",
    "          embed_size: The number of dimensions in the word embeddings.\n",
    "          hidden_size: The number of features in the hidden state.\n",
    "        \"\"\"\n",
    "        super(Decoder, self).__init__()\n",
    "        self.hidden_size = hidden_size\n",
    "\n",
    "        self.embedding = nn.Embedding(tgt_dictionary_size, embed_size)\n",
    "        self.gru = nn.GRU(input_size=embed_size, hidden_size=hidden_size)\n",
    "        self.out = nn.Linear(hidden_size, tgt_dictionary_size)\n",
    "\n",
    "    def forward(self, hidden, pad_tgt_seqs=None, teacher_forcing=False):\n",
    "        \"\"\"\n",
    "        Args:\n",
    "          hidden of shape (1, batch_size, hidden_size): States of the GRU.\n",
    "          pad_tgt_seqs of shape (max_out_seq_length, batch_size): Tensor of words (word indices) of the\n",
    "              target sentence. If None, the output sequence is generated by feeding the decoder's outputs\n",
    "              (teacher_forcing has to be False).\n",
    "          teacher_forcing (bool): Whether to use teacher forcing or not.\n",
    "\n",
    "        Returns:\n",
    "          outputs of shape (max_out_seq_length, batch_size, tgt_dictionary_size): Tensor of log-probabilities\n",
    "              of words in the target language.\n",
    "          hidden of shape (1, batch_size, hidden_size): New states of the GRU.\n",
    "\n",
    "        Note: Do not forget to transfer tensors that you may want to create in this function to the device\n",
    "        specified by `hidden.device`.\n",
    "        \"\"\"\n",
    "        if pad_tgt_seqs is None:\n",
    "            assert not teacher_forcing, 'Cannot use teacher forcing without a target sequence.'\n",
    "\n",
    "        # YOUR CODE HERE\n",
    "\n",
    "        print(\"hidden , pad_tgt_seqs : \\n\", hidden,pad_tgt_seqs)\n",
    "        \n",
    "        sos=torch.LongTensor(SOS_token*np.ones((1,len(hidden[0]))))\n",
    "        print(\"sos : \", sos)\n",
    "        print (\"Teacher forcing： \",teacher_forcing )\n",
    "        \n",
    "        if teacher_forcing == True:   \n",
    "            print(\"pad_tgt_seqs columns should be 2\",pad_tgt_seqs)\n",
    "            input=torch.cat((sos,pad_tgt_seqs[:-1][:]),dim=0)\n",
    "            print(\"input: \",input)\n",
    "            output = self.embedding(input)\n",
    "            output = F.relu(output)\n",
    "            output, hidden = self.gru(output, hidden)\n",
    "            \n",
    "            output = self.out(output)\n",
    "            output = F.log_softmax(output, dim = 2)\n",
    "        \n",
    "        if teacher_forcing == False:\n",
    "            input = sos\n",
    "            \n",
    "            if  pad_tgt_seqs == None:\n",
    "                pad_tgt_len = MAX_LENGTH\n",
    "            else:\n",
    "                pad_tgt_len = len(pad_tgt_seqs)\n",
    "            \n",
    "            \n",
    "            for i in range(pad_tgt_len):\n",
    "                print(\"range : \",i)\n",
    "                y = self.embedding(input)\n",
    "                y = F.relu(y)\n",
    "                y, hidden = self.gru(y, hidden)\n",
    "                y = self.out(y)\n",
    "                y = F.log_softmax(y, dim=2)\n",
    "                print (\"output y:\" ,y)\n",
    "                \n",
    "                sentence=y\n",
    "                \n",
    "                # connect the words to form a sentence\n",
    "                if i>=1:\n",
    "                    sentence=torch.cat((sentence,y),dim=0)\n",
    "                    output=sentence\n",
    "                \n",
    "                # new input is previous output y\n",
    "                input=torch.argmax(y,dim=2)\n",
    "                \n",
    "                \n",
    "        output.to(hidden.device)\n",
    "        hidden.to(hidden.device)\n",
    "        \n",
    "        return output,  hidden       \n",
    "        raise NotImplementedError()"
   ]
  },
  {
   "cell_type": "code",
   "execution_count": 20,
   "metadata": {
    "deletable": false,
    "editable": false,
    "nbgrader": {
     "cell_type": "code",
     "checksum": "bb5dd456e3e629a59f81291bfb10586a",
     "grade": false,
     "grade_id": "cell-f0749cc463edb855",
     "locked": true,
     "schema_version": 3,
     "solution": false,
     "task": false
    }
   },
   "outputs": [
    {
     "name": "stdout",
     "output_type": "stream",
     "text": [
      "hidden , pad_tgt_seqs : \n",
      " tensor([[[0., 0.],\n",
      "         [0., 0.]]]) tensor([[1, 2],\n",
      "        [2, 1],\n",
      "        [3, 0],\n",
      "        [1, 0]])\n",
      "sos :  tensor([[0, 0]])\n",
      "Teacher forcing：  False\n",
      "range :  0\n",
      "output y: tensor([[[-1.7608, -1.4521, -2.0596, -1.1360, -1.9283],\n",
      "         [-1.7608, -1.4521, -2.0596, -1.1360, -1.9283]]],\n",
      "       grad_fn=<LogSoftmaxBackward0>)\n",
      "range :  1\n",
      "output y: tensor([[[-1.5135, -1.7559, -1.5784, -1.6771, -1.5424],\n",
      "         [-1.5135, -1.7559, -1.5784, -1.6771, -1.5424]]],\n",
      "       grad_fn=<LogSoftmaxBackward0>)\n",
      "range :  2\n",
      "output y: tensor([[[-1.6809, -1.4481, -1.9183, -1.2493, -1.9294],\n",
      "         [-1.6809, -1.4481, -1.9183, -1.2493, -1.9294]]],\n",
      "       grad_fn=<LogSoftmaxBackward0>)\n",
      "range :  3\n",
      "output y: tensor([[[-1.4991, -1.7029, -1.5553, -1.6805, -1.6241],\n",
      "         [-1.4991, -1.7029, -1.5553, -1.6805, -1.6241]]],\n",
      "       grad_fn=<LogSoftmaxBackward0>)\n",
      "hidden , pad_tgt_seqs : \n",
      " tensor([[[0., 0.],\n",
      "         [0., 0.]]]) tensor([[1, 2],\n",
      "        [2, 1],\n",
      "        [3, 0],\n",
      "        [1, 0]])\n",
      "sos :  tensor([[0, 0]])\n",
      "Teacher forcing：  True\n",
      "pad_tgt_seqs columns should be 2 tensor([[1, 2],\n",
      "        [2, 1],\n",
      "        [3, 0],\n",
      "        [1, 0]])\n",
      "input:  tensor([[0, 0],\n",
      "        [1, 2],\n",
      "        [2, 1],\n",
      "        [3, 0]])\n",
      "hidden , pad_tgt_seqs : \n",
      " tensor([[[0., 0.],\n",
      "         [0., 0.]]]) None\n",
      "sos :  tensor([[0, 0]])\n",
      "Teacher forcing：  False\n",
      "range :  0\n",
      "output y: tensor([[[-1.7608, -1.4521, -2.0596, -1.1360, -1.9283],\n",
      "         [-1.7608, -1.4521, -2.0596, -1.1360, -1.9283]]],\n",
      "       grad_fn=<LogSoftmaxBackward0>)\n",
      "range :  1\n",
      "output y: tensor([[[-1.5135, -1.7559, -1.5784, -1.6771, -1.5424],\n",
      "         [-1.5135, -1.7559, -1.5784, -1.6771, -1.5424]]],\n",
      "       grad_fn=<LogSoftmaxBackward0>)\n",
      "range :  2\n",
      "output y: tensor([[[-1.6809, -1.4481, -1.9183, -1.2493, -1.9294],\n",
      "         [-1.6809, -1.4481, -1.9183, -1.2493, -1.9294]]],\n",
      "       grad_fn=<LogSoftmaxBackward0>)\n",
      "range :  3\n",
      "output y: tensor([[[-1.4991, -1.7029, -1.5553, -1.6805, -1.6241],\n",
      "         [-1.4991, -1.7029, -1.5553, -1.6805, -1.6241]]],\n",
      "       grad_fn=<LogSoftmaxBackward0>)\n",
      "range :  4\n",
      "output y: tensor([[[-1.6763, -1.4115, -1.9082, -1.2544, -1.9985],\n",
      "         [-1.6763, -1.4115, -1.9082, -1.2544, -1.9985]]],\n",
      "       grad_fn=<LogSoftmaxBackward0>)\n",
      "range :  5\n",
      "output y: tensor([[[-1.4923, -1.6666, -1.5447, -1.6787, -1.6806],\n",
      "         [-1.4923, -1.6666, -1.5447, -1.6787, -1.6806]]],\n",
      "       grad_fn=<LogSoftmaxBackward0>)\n",
      "range :  6\n",
      "output y: tensor([[[-1.6746, -1.3870, -1.9036, -1.2569, -2.0462],\n",
      "         [-1.6746, -1.3870, -1.9036, -1.2569, -2.0462]]],\n",
      "       grad_fn=<LogSoftmaxBackward0>)\n",
      "range :  7\n",
      "output y: tensor([[[-1.4882, -1.6425, -1.5383, -1.6778, -1.7193],\n",
      "         [-1.4882, -1.6425, -1.5383, -1.6778, -1.7193]]],\n",
      "       grad_fn=<LogSoftmaxBackward0>)\n",
      "range :  8\n",
      "output y: tensor([[[-1.6738, -1.3704, -1.9007, -1.2588, -2.0793],\n",
      "         [-1.6738, -1.3704, -1.9007, -1.2588, -2.0793]]],\n",
      "       grad_fn=<LogSoftmaxBackward0>)\n",
      "range :  9\n",
      "output y: tensor([[[-1.4857, -1.6261, -1.5341, -1.6774, -1.7463],\n",
      "         [-1.4857, -1.6261, -1.5341, -1.6774, -1.7463]]],\n",
      "       grad_fn=<LogSoftmaxBackward0>)\n",
      "Success\n"
     ]
    }
   ],
   "source": [
    "def test_Decoder_shapes():\n",
    "    hidden_size = 2\n",
    "    tgt_dictionary_size = 5\n",
    "    test_decoder = Decoder(tgt_dictionary_size, embed_size=10, hidden_size=hidden_size)\n",
    "\n",
    "    max_seq_length = 4\n",
    "    batch_size = 2\n",
    "    pad_tgt_seqs = torch.tensor([\n",
    "        [        1,             2],\n",
    "        [        2,     EOS_token],\n",
    "        [        3, PADDING_VALUE],\n",
    "        [EOS_token, PADDING_VALUE]\n",
    "    ])  # [max_seq_length, batch_size]\n",
    "\n",
    "    hidden = torch.zeros(1, batch_size, hidden_size)\n",
    "    outputs, new_hidden = test_decoder.forward(hidden, pad_tgt_seqs, teacher_forcing=False)\n",
    "\n",
    "    assert outputs.size(0) <= 4, f\"Too long output sequence: outputs.size(0)={outputs.size(0)}\"\n",
    "    assert outputs.shape[1:] == torch.Size([batch_size, tgt_dictionary_size]), \\\n",
    "        f\"Bad outputs.shape[1:]={outputs.shape[1:]}\"\n",
    "    assert new_hidden.shape == torch.Size([1, batch_size, hidden_size]), f\"Bad new_hidden.shape={new_hidden.shape}\"\n",
    "\n",
    "    outputs, new_hidden = test_decoder.forward(hidden, pad_tgt_seqs, teacher_forcing=True)\n",
    "    assert outputs.shape == torch.Size([4, batch_size, tgt_dictionary_size]), \\\n",
    "        f\"Bad shape outputs.shape={outputs.shape}\"\n",
    "    assert new_hidden.shape == torch.Size([1, batch_size, hidden_size]), f\"Bad new_hidden.shape={new_hidden.shape}\"\n",
    "\n",
    "    # Generation mode\n",
    "    outputs, new_hidden = test_decoder.forward(hidden, None, teacher_forcing=False)\n",
    "    assert outputs.shape[1:] == torch.Size([batch_size, tgt_dictionary_size]), \\\n",
    "        f\"Bad outputs.shape[1:]={outputs.shape[1:]}\"\n",
    "    assert new_hidden.shape == torch.Size([1, batch_size, hidden_size]), f\"Bad new_hidden.shape={new_hidden.shape}\"\n",
    "\n",
    "    print('Success')\n",
    "\n",
    "test_Decoder_shapes()"
   ]
  },
  {
   "cell_type": "code",
   "execution_count": 21,
   "metadata": {
    "deletable": false,
    "editable": false,
    "nbgrader": {
     "cell_type": "code",
     "checksum": "06db3e79dd4062d9884c92b2d7d5446d",
     "grade": true,
     "grade_id": "test_Decoder",
     "locked": true,
     "points": 0.8,
     "schema_version": 3,
     "solution": false,
     "task": false
    }
   },
   "outputs": [],
   "source": [
    "# This cell tests Decoder"
   ]
  },
  {
   "cell_type": "code",
   "execution_count": 22,
   "metadata": {
    "deletable": false,
    "editable": false,
    "nbgrader": {
     "cell_type": "code",
     "checksum": "ccb2c0a30b0b979ac8c69d76301b5370",
     "grade": true,
     "grade_id": "cell-056d8c00b620337b",
     "locked": true,
     "points": 0.6,
     "schema_version": 3,
     "solution": false,
     "task": false
    }
   },
   "outputs": [],
   "source": [
    "# This cell tests Decoder"
   ]
  },
  {
   "cell_type": "code",
   "execution_count": 23,
   "metadata": {
    "deletable": false,
    "editable": false,
    "nbgrader": {
     "cell_type": "code",
     "checksum": "c457795f7e0ed5a5f1c62c8aba814ed2",
     "grade": true,
     "grade_id": "cell-c5cc115725c6508b",
     "locked": true,
     "points": 0.6,
     "schema_version": 3,
     "solution": false,
     "task": false
    }
   },
   "outputs": [],
   "source": [
    "# This cell tests Decoder"
   ]
  },
  {
   "cell_type": "markdown",
   "metadata": {
    "deletable": false,
    "editable": false,
    "nbgrader": {
     "cell_type": "markdown",
     "checksum": "876b987bce981f6692a1847ba12a888f",
     "grade": false,
     "grade_id": "cell-6207d3c96c443b4f",
     "locked": true,
     "schema_version": 3,
     "solution": false
    }
   },
   "source": [
    "## Training of sequence-to-sequence model using mini-batches\n",
    "\n",
    "Now we are going to train the sequence-to-sequence model on the toy translation dataset."
   ]
  },
  {
   "cell_type": "code",
   "execution_count": 24,
   "metadata": {
    "deletable": false,
    "editable": false,
    "nbgrader": {
     "cell_type": "code",
     "checksum": "a3a4c7142fd6d3aea8ec9bd599f32b68",
     "grade": false,
     "grade_id": "cell-dc6ed9b2b10473c5",
     "locked": true,
     "schema_version": 3,
     "solution": false,
     "task": false
    }
   },
   "outputs": [],
   "source": [
    "# Create the seq2seq model\n",
    "hidden_size = embed_size = 256\n",
    "encoder = Encoder(trainset.input_lang.n_words, embed_size, hidden_size).to(device)\n",
    "decoder = Decoder(trainset.output_lang.n_words, embed_size, hidden_size).to(device)"
   ]
  },
  {
   "cell_type": "code",
   "execution_count": 25,
   "metadata": {
    "deletable": false,
    "editable": false,
    "nbgrader": {
     "cell_type": "code",
     "checksum": "529e79ae57187958b239781c17b99635",
     "grade": false,
     "grade_id": "cell-6ce059e5ee375d3b",
     "locked": true,
     "schema_version": 3,
     "solution": false
    }
   },
   "outputs": [],
   "source": [
    "teacher_forcing_ratio = 0.5"
   ]
  },
  {
   "cell_type": "markdown",
   "metadata": {
    "deletable": false,
    "editable": false,
    "nbgrader": {
     "cell_type": "markdown",
     "checksum": "31e5cb3f3cda9dac28a5d1562df92e24",
     "grade": false,
     "grade_id": "cell-b1645c0797a9d5f6",
     "locked": true,
     "schema_version": 3,
     "solution": false
    }
   },
   "source": [
    "Implement the training loop in the cell below. In the training loop, we first encode source sequences using the encoder, then we decode the encoded state using the decoder. The decoder outputs log-probabilities of words in the target language. We need to use these log-probabilities and the indexes of the words in the target sequences to compute the loss.\n",
    "\n",
    "The loss is\n",
    "\\begin{align*}\n",
    "L = - \\frac{1}{N} \\sum_{n} \\sum_{t=1}^{T_n}\n",
    "\\log p\\left(\\mathbf{y}_t^{(n)} \\:\\Bigl|\\: \\mathbf{y}_{<t}^{(n)}, \\mathbf{X}^{(n)} \\right)\n",
    "\\end{align*}\n",
    "where $T_n$ is the length of the $n$-th target sequence and $N= \\sum_{n=1} T_n$ is the total number of words in all the sentences of the mini-batch.\n",
    "\n",
    "Recommended hyperparameters:\n",
    "- Encoder optimizer: Adam with learning rate 0.001\n",
    "- Decoder optimizer: Adam with learning rate 0.001\n",
    "- Number of epochs: 30\n",
    "- Toggle `teacher_forcing` on and off (for each mini-batch) according to the `teacher_forcing_ratio` specified above.\n",
    "\n",
    "Hints:\n",
    "- Training should proceed relatively fast.\n",
    "- If you do well, the training loss should reach 0.1 in 30 epochs.\n",
    "- Slight overlearning may happen (you can see that if you track the test error during training) but you can ignore this problem. \n",
    "- **Important:** When computing the loss, you need to ignore the padded values. This can easily be done by using argument `ignore_index` of function [`nll_loss`](\n",
    "https://pytorch.org/docs/stable/nn.functional.html#torch.nn.functional.nll_loss)."
   ]
  },
  {
   "cell_type": "code",
   "execution_count": 35,
   "metadata": {
    "deletable": false,
    "nbgrader": {
     "cell_type": "code",
     "checksum": "e7a530b833c54e4e7de2bac7b3b235c0",
     "grade": false,
     "grade_id": "cell-39d518fd8074b9ee",
     "locked": false,
     "schema_version": 3,
     "solution": true,
     "task": false
    },
    "scrolled": false
   },
   "outputs": [
    {
     "name": "stdout",
     "output_type": "stream",
     "text": [
      "src_origin (tensor([ 118,  215,  974, 2066,    5,    1]), tensor([130,  78, 532, 428,   4,   1]))\n",
      "src_sorted [tensor([ 118,  215,  974, 2066,    5,    1]), tensor([130,  78, 532, 428,   4,   1])]\n",
      "src_pad tensor([[ 118,  130],\n",
      "        [ 215,   78],\n",
      "        [ 974,  532],\n",
      "        [2066,  428],\n",
      "        [   5,    4],\n",
      "        [   1,    1]])\n",
      "tgt_origin (tensor([ 349,  350, 3652,  115,  332,   96, 1792,    5,    1]), tensor([ 222,  125, 1343,  539, 1555,  616,  295,  988,    4,    1]))\n",
      "tgt_pad tensor([[ 349,  222],\n",
      "        [ 350,  125],\n",
      "        [3652, 1343],\n",
      "        [ 115,  539],\n",
      "        [ 332, 1555],\n",
      "        [  96,  616],\n",
      "        [1792,  295],\n",
      "        [   5,  988],\n",
      "        [   1,    4],\n",
      "        [   0,    1]])\n",
      "src_seq_lengths :  [6, 6]\n",
      "seq_pack PackedSequence(data=tensor([[ 0.9295, -0.5833,  1.0380,  ..., -0.2575,  0.9747, -1.2493],\n",
      "        [ 0.5999, -0.4198,  1.5599,  ...,  0.2124,  0.3146, -0.8375],\n",
      "        [ 0.5644, -1.1567, -0.4569,  ..., -0.4618, -0.1561,  0.8662],\n",
      "        ...,\n",
      "        [-0.2180,  0.3305, -0.9627,  ..., -0.5937, -0.7775, -0.9377],\n",
      "        [ 2.0243, -2.4012,  1.7250,  ..., -1.1238,  0.8574, -0.4823],\n",
      "        [ 2.0243, -2.4012,  1.7250,  ..., -1.1238,  0.8574, -0.4823]],\n",
      "       grad_fn=<PackPaddedSequenceBackward0>), batch_sizes=tensor([2, 2, 2, 2, 2, 2]), sorted_indices=None, unsorted_indices=None)\n",
      "output1 PackedSequence(data=tensor([[ 0.1352,  0.3642, -0.0453,  ..., -0.3200, -0.1232, -0.0514],\n",
      "        [-0.0125,  0.4128, -0.3737,  ...,  0.5739, -0.2035, -0.1905],\n",
      "        [-0.1819,  0.1153, -0.3493,  ..., -0.0858,  0.0627,  0.0011],\n",
      "        ...,\n",
      "        [ 0.1388, -0.0864,  0.5584,  ...,  0.3233, -0.2413,  0.2325],\n",
      "        [-0.2009, -0.2479, -0.5235,  ..., -0.0274,  0.1053, -0.3206],\n",
      "        [-0.0783, -0.2977, -0.2811,  ..., -0.0667,  0.2671, -0.0165]],\n",
      "       grad_fn=<CatBackward0>), batch_sizes=tensor([2, 2, 2, 2, 2, 2]), sorted_indices=None, unsorted_indices=None)\n",
      "output2 tensor([[[ 0.1352,  0.3642, -0.0453,  ..., -0.3200, -0.1232, -0.0514],\n",
      "         [-0.0125,  0.4128, -0.3737,  ...,  0.5739, -0.2035, -0.1905]],\n",
      "\n",
      "        [[-0.1819,  0.1153, -0.3493,  ..., -0.0858,  0.0627,  0.0011],\n",
      "         [ 0.3574,  0.1744, -0.3535,  ...,  0.6505, -0.3009,  0.0426]],\n",
      "\n",
      "        [[-0.1463, -0.0106, -0.0261,  ...,  0.1282, -0.3354,  0.0955],\n",
      "         [ 0.1962, -0.0781, -0.3272,  ...,  0.7689,  0.0046,  0.1954]],\n",
      "\n",
      "        [[-0.2731, -0.1007, -0.1486,  ..., -0.0935, -0.2408, -0.3516],\n",
      "         [ 0.0500, -0.2690, -0.1002,  ...,  0.4160, -0.4139,  0.1536]],\n",
      "\n",
      "        [[-0.0382, -0.0246,  0.0708,  ...,  0.2397, -0.4863, -0.2120],\n",
      "         [ 0.1388, -0.0864,  0.5584,  ...,  0.3233, -0.2413,  0.2325]],\n",
      "\n",
      "        [[-0.2009, -0.2479, -0.5235,  ..., -0.0274,  0.1053, -0.3206],\n",
      "         [-0.0783, -0.2977, -0.2811,  ..., -0.0667,  0.2671, -0.0165]]],\n",
      "       grad_fn=<CopySlices>)\n",
      "encoder output_shape, hidden_shape torch.Size([6, 2, 256]) torch.Size([1, 2, 256])\n",
      "hidden , pad_tgt_seqs : \n",
      " tensor([[[-2.0089e-01, -2.4788e-01, -5.2346e-01,  9.8569e-02,  5.7350e-01,\n",
      "          -3.9144e-01,  1.3573e-02,  1.8656e-01,  4.1833e-01,  6.5092e-02,\n",
      "           9.7722e-02,  3.7933e-01, -8.3528e-02,  2.8075e-01,  1.1597e-02,\n",
      "           3.2651e-01,  3.3744e-01,  1.5784e-01,  6.3351e-02, -5.8901e-01,\n",
      "           4.7957e-01, -1.6311e-01, -1.7568e-01, -1.0740e-01, -3.9053e-01,\n",
      "           4.5218e-01, -1.8981e-01, -1.1495e-01, -3.4118e-01,  3.8791e-01,\n",
      "          -9.4178e-02, -3.7042e-01, -8.5606e-02,  1.5187e-01, -2.2103e-01,\n",
      "           2.5334e-01,  2.2293e-01,  1.6157e-01, -2.4427e-01, -1.6729e-01,\n",
      "          -2.7364e-02,  1.5695e-01, -5.8266e-01,  5.7212e-01, -5.2360e-03,\n",
      "          -6.0405e-01, -2.8208e-01,  2.6806e-01,  8.2580e-02, -1.5259e-01,\n",
      "          -3.0339e-01, -6.9555e-01, -3.0079e-01, -3.6484e-01, -1.8465e-02,\n",
      "           1.9906e-01, -9.4851e-02, -1.0846e-01,  2.3834e-02, -8.9226e-02,\n",
      "           3.4866e-01, -2.3362e-01, -2.0937e-01,  7.0958e-02, -3.8386e-01,\n",
      "           1.7509e-01, -1.1530e-01, -2.2117e-01, -4.5708e-02,  1.4934e-01,\n",
      "           7.0955e-02, -1.1019e-01,  2.9818e-01, -7.1170e-02, -1.7641e-01,\n",
      "           3.2589e-01,  1.2643e-02,  4.2027e-01, -1.5159e-01, -1.4033e-01,\n",
      "           3.9189e-01, -3.3210e-01, -4.0408e-01, -3.6166e-01, -3.3709e-01,\n",
      "           8.1060e-02,  7.3374e-02, -1.1836e-01, -1.2650e-01, -1.2411e-02,\n",
      "          -1.0432e-03,  2.8898e-01, -6.5322e-01, -1.3404e-03,  5.3464e-02,\n",
      "           2.2927e-01,  1.7326e-02,  3.9017e-01, -1.7210e-01,  9.8375e-02,\n",
      "           3.2752e-02,  3.8015e-02, -1.7974e-01, -1.1679e-01, -3.4752e-02,\n",
      "          -2.7330e-01, -2.5105e-02,  1.4520e-01,  1.1703e-01,  1.4955e-01,\n",
      "          -1.5589e-01,  3.0548e-01,  3.1626e-01,  5.6396e-02, -4.1637e-01,\n",
      "           1.6579e-01, -4.3327e-01,  4.4675e-01, -1.7672e-01, -2.4780e-01,\n",
      "           2.2541e-01, -4.3292e-01, -1.2412e-01,  1.6528e-01, -4.5730e-01,\n",
      "           9.9253e-02,  1.8173e-01, -2.7079e-01,  1.9003e-01,  4.5031e-01,\n",
      "          -1.4530e-01, -1.6323e-01, -8.3228e-02, -4.0575e-01,  4.1869e-01,\n",
      "          -5.6983e-01,  1.1560e-01,  3.0476e-01, -6.4564e-02,  1.3667e-01,\n",
      "          -5.1951e-01, -1.7102e-01,  1.2697e-01,  1.6523e-01,  4.8791e-01,\n",
      "          -2.5313e-02,  3.7348e-01,  1.2985e-01, -5.3354e-01,  3.1316e-01,\n",
      "          -5.6135e-02,  6.3037e-02, -1.9652e-01, -3.6037e-01,  3.1531e-01,\n",
      "           3.1187e-01,  1.4176e-01, -6.7428e-02,  2.4251e-01, -1.0457e-01,\n",
      "          -5.4930e-01, -7.4599e-02, -2.4938e-01, -3.0196e-01, -2.2139e-01,\n",
      "          -2.7190e-01,  2.8376e-02, -4.8973e-02,  1.9893e-01, -4.7746e-01,\n",
      "           4.0870e-01,  3.0313e-02, -5.8635e-01,  1.7732e-01, -6.3750e-01,\n",
      "          -1.0620e-01, -3.2363e-01, -2.0803e-01,  1.6505e-01,  5.1657e-01,\n",
      "           3.4363e-02,  1.2096e-02,  3.2012e-02,  3.3639e-01,  5.3396e-01,\n",
      "           3.2356e-01,  1.5282e-01, -2.0354e-01, -1.4877e-01,  6.6185e-02,\n",
      "          -3.2629e-01,  4.7428e-01, -3.5832e-01, -6.4356e-02,  1.5971e-01,\n",
      "          -1.0296e-01,  1.6016e-01,  7.4829e-02, -2.1726e-01, -4.6742e-01,\n",
      "           1.6235e-02,  3.9812e-01, -1.2320e-02, -3.7630e-01,  2.6706e-01,\n",
      "          -3.7928e-01,  1.8654e-01,  3.3628e-01, -2.9749e-01,  4.2083e-01,\n",
      "          -4.3332e-01, -3.7847e-01,  2.5090e-01,  1.8842e-01, -5.4131e-03,\n",
      "           8.9872e-02, -2.7529e-01, -5.7749e-01, -3.2471e-01, -1.1782e-02,\n",
      "          -5.0484e-01,  2.2262e-01,  1.6778e-01,  3.6992e-01,  4.6366e-01,\n",
      "          -6.7504e-01, -1.7443e-01, -4.7385e-01,  1.1637e-01, -9.7532e-02,\n",
      "           1.3028e-02,  2.5671e-01, -6.2975e-02, -2.3513e-01,  4.3688e-01,\n",
      "          -2.5056e-01,  1.0001e-01, -4.7483e-01,  2.9640e-01, -3.4978e-01,\n",
      "          -2.3688e-01, -1.3957e-01, -1.9551e-01,  7.2474e-02,  2.3056e-02,\n",
      "           3.0997e-01,  1.5335e-01,  1.1460e-01, -9.9198e-02,  1.7522e-01,\n",
      "          -1.8251e-01,  4.2289e-01, -3.2390e-01, -2.7444e-02,  1.0530e-01,\n",
      "          -3.2057e-01],\n",
      "         [-7.8332e-02, -2.9768e-01, -2.8114e-01,  2.5329e-01,  5.5948e-01,\n",
      "          -3.1810e-01, -2.1277e-02,  2.4742e-01,  2.0520e-01, -2.5447e-01,\n",
      "           5.0912e-02,  1.7064e-01,  1.3384e-01,  4.1703e-01, -2.2234e-01,\n",
      "           2.5032e-01,  2.3450e-01,  9.2162e-02,  2.6246e-02, -5.9903e-01,\n",
      "           3.7330e-01,  9.1882e-02,  3.3863e-01,  5.5444e-02, -4.6525e-01,\n",
      "           4.7540e-01, -6.6396e-02,  2.4545e-01, -2.7675e-01, -2.5392e-01,\n",
      "           1.8837e-01, -1.1787e-01,  3.2381e-02,  1.5094e-01,  6.1544e-02,\n",
      "           1.8865e-01,  4.0986e-01, -4.1054e-02,  8.5074e-02, -1.9628e-01,\n",
      "          -4.6581e-02,  4.2298e-01, -5.2495e-01,  6.5477e-01,  2.0012e-02,\n",
      "          -1.0108e-01, -1.2277e-01,  2.2437e-01,  2.9554e-02, -3.6210e-01,\n",
      "          -5.8069e-01, -5.5437e-01,  3.3593e-02, -2.2627e-02,  9.7234e-02,\n",
      "          -8.0970e-02, -2.9171e-01, -1.2275e-01, -1.9296e-01, -3.1431e-01,\n",
      "           1.4624e-01, -1.5736e-01, -5.9028e-02, -2.2991e-02, -2.9253e-01,\n",
      "          -3.3485e-02,  3.7081e-02, -1.9176e-01, -3.7933e-02,  2.1975e-01,\n",
      "          -2.0256e-01, -3.1224e-01,  3.3730e-01, -5.4087e-02,  7.1945e-02,\n",
      "           4.3396e-01,  3.3324e-01,  3.3293e-01, -4.2451e-01, -3.0036e-01,\n",
      "           3.6433e-01, -2.7913e-01, -3.5597e-01, -5.1746e-01, -6.7227e-02,\n",
      "           1.8576e-01, -1.0360e-01, -2.6166e-01,  2.0909e-01, -4.5914e-02,\n",
      "           7.2623e-02,  9.7268e-02, -5.5072e-01,  2.1850e-01,  4.1934e-01,\n",
      "           1.8997e-01,  1.3414e-01,  7.6329e-03,  1.5536e-02,  3.1226e-01,\n",
      "          -6.2165e-02,  1.2595e-01, -4.4390e-02, -1.5339e-01,  1.3855e-01,\n",
      "          -8.8440e-02,  9.9758e-02, -3.2296e-02,  5.2961e-02,  1.2140e-01,\n",
      "          -3.5994e-01,  3.4904e-01,  2.6835e-02, -1.4429e-02, -5.9493e-01,\n",
      "          -5.7068e-02, -2.4124e-01,  4.9678e-01, -2.4249e-01, -3.8275e-01,\n",
      "           2.5160e-02, -1.5756e-01,  8.6825e-02,  4.2358e-03, -4.9241e-01,\n",
      "           3.2681e-01,  4.3718e-01, -2.7283e-01,  5.7737e-01,  3.2563e-01,\n",
      "           2.6354e-01, -2.6330e-04,  6.3002e-02, -4.8817e-01,  3.4140e-01,\n",
      "          -4.2006e-01,  2.0042e-01,  5.9641e-01, -3.9287e-01,  9.3757e-02,\n",
      "          -4.1160e-01, -4.5917e-01, -4.3167e-02,  1.9437e-01,  2.3639e-01,\n",
      "           2.3673e-01,  4.1882e-01,  4.6263e-02, -4.0850e-01,  4.3001e-01,\n",
      "           2.2602e-01,  2.4836e-02,  9.3025e-02, -2.6051e-01, -3.0776e-02,\n",
      "           4.1800e-01, -9.1968e-02,  9.2168e-03, -4.6316e-02,  1.1243e-01,\n",
      "          -5.2463e-01, -2.6527e-01, -1.8053e-01, -5.5128e-01, -3.4115e-01,\n",
      "           1.3421e-01,  4.4205e-01, -1.3071e-01, -4.3155e-01, -5.2899e-01,\n",
      "           2.8157e-01, -1.4852e-01, -4.7322e-01,  3.5479e-01, -2.6337e-01,\n",
      "           1.1929e-02, -3.5541e-01,  3.0112e-01,  2.6751e-01,  5.5938e-01,\n",
      "           1.0143e-01, -6.8816e-02,  1.1982e-01,  2.9127e-01,  8.6678e-02,\n",
      "           1.0018e-01, -7.4217e-02,  1.0791e-01, -2.4481e-01, -1.1599e-01,\n",
      "           2.5438e-03,  3.4379e-01, -1.9251e-01,  4.5619e-03,  1.2356e-01,\n",
      "           1.0098e-02,  1.0077e-01,  1.9635e-01, -2.5708e-01, -3.6333e-01,\n",
      "          -3.4340e-01,  5.5770e-02,  1.1328e-01, -3.6794e-01, -4.1987e-01,\n",
      "          -6.4330e-01,  4.6914e-02,  2.9676e-01, -4.5182e-02,  3.0333e-01,\n",
      "          -2.9575e-01,  2.2190e-02,  3.3987e-01,  7.4094e-02, -7.7307e-02,\n",
      "          -3.3163e-01,  2.8520e-01, -6.7603e-01, -2.0792e-01, -3.1287e-01,\n",
      "          -7.8625e-02, -1.0075e-01,  3.2679e-01,  1.3826e-01,  3.9339e-01,\n",
      "          -6.1272e-01, -7.4378e-02, -4.8250e-03,  1.3751e-01,  1.3064e-01,\n",
      "           1.0540e-01,  5.8374e-02,  2.4296e-01, -2.1916e-01,  6.2920e-01,\n",
      "          -3.0605e-01,  1.1585e-01, -3.1724e-01,  2.7695e-01, -9.0201e-02,\n",
      "          -3.8299e-02,  3.0256e-01, -7.0187e-04, -3.2063e-01, -1.8900e-01,\n",
      "           2.1074e-01,  3.4966e-01,  2.1761e-01,  1.4415e-01,  2.4325e-01,\n",
      "           3.2409e-02,  5.3610e-01, -2.9134e-01, -6.6708e-02,  2.6709e-01,\n",
      "          -1.6535e-02]]], grad_fn=<StackBackward0>) tensor([130,  78, 454,   4,   1])\n",
      "sos :  tensor([[0, 0]])\n",
      "Teacher forcing：  False\n",
      "range :  0\n",
      "output y: tensor([[[-7.8751, -7.8726, -7.8836,  ..., -8.1107, -7.8180, -8.0952],\n",
      "         [-7.9051, -7.8457, -7.8897,  ..., -8.1011, -7.8809, -8.0934]]],\n",
      "       grad_fn=<LogSoftmaxBackward0>)\n",
      "range :  1\n",
      "output y: tensor([[[-7.9732, -7.9453, -7.9685,  ..., -8.0260, -7.7334, -8.1629],\n",
      "         [-7.8250, -8.0770, -8.0817,  ..., -8.0618, -7.8366, -8.0852]]],\n",
      "       grad_fn=<LogSoftmaxBackward0>)\n",
      "range :  2\n",
      "output y: tensor([[[-7.9512, -7.6916, -8.0010,  ..., -7.9638, -7.8908, -8.2142],\n",
      "         [-7.7881, -8.1952, -8.1758,  ..., -8.0275, -7.8274, -8.0714]]],\n",
      "       grad_fn=<LogSoftmaxBackward0>)\n",
      "range :  3\n",
      "output y: tensor([[[-7.8621, -7.9677, -8.1054,  ..., -7.9801, -7.8428, -8.1248],\n",
      "         [-7.7978, -7.9897, -8.1578,  ..., -8.0822, -7.8796, -8.0218]]],\n",
      "       grad_fn=<LogSoftmaxBackward0>)\n",
      "range :  4\n",
      "output y: tensor([[[-7.9093, -7.8887, -7.9237,  ..., -8.1347, -8.0066, -8.0797],\n",
      "         [-7.9831, -7.8207, -8.1710,  ..., -8.1000, -8.0074, -7.9858]]],\n",
      "       grad_fn=<LogSoftmaxBackward0>)\n",
      "output, tgt_seqs: \n",
      "\n",
      " torch.Size([2, 2, 2925]) tensor([[ 349,  222],\n",
      "        [ 350,  125],\n",
      "        [3652, 1343],\n",
      "        [ 115,  539],\n",
      "        [ 332, 1555],\n",
      "        [  96,  616],\n",
      "        [1792,  295],\n",
      "        [   5,  988],\n",
      "        [   1,    4],\n",
      "        [   0,    1]])\n",
      "output:  torch.Size([4, 2925])\n"
     ]
    },
    {
     "ename": "ValueError",
     "evalue": "Expected input batch_size (4) to match target batch_size (20).",
     "output_type": "error",
     "traceback": [
      "\u001b[0;31m---------------------------------------------------------------------------\u001b[0m",
      "\u001b[0;31mValueError\u001b[0m                                Traceback (most recent call last)",
      "Input \u001b[0;32mIn [35]\u001b[0m, in \u001b[0;36m<cell line: 1>\u001b[0;34m()\u001b[0m\n\u001b[1;32m     24\u001b[0m output \u001b[38;5;241m=\u001b[39m torch\u001b[38;5;241m.\u001b[39mflatten(output,end_dim\u001b[38;5;241m=\u001b[39m\u001b[38;5;241m1\u001b[39m)\n\u001b[1;32m     25\u001b[0m \u001b[38;5;28mprint\u001b[39m(\u001b[38;5;124m\"\u001b[39m\u001b[38;5;124moutput: \u001b[39m\u001b[38;5;124m\"\u001b[39m,output\u001b[38;5;241m.\u001b[39mshape)\n\u001b[0;32m---> 26\u001b[0m loss \u001b[38;5;241m=\u001b[39m \u001b[43mcriterion\u001b[49m\u001b[43m(\u001b[49m\u001b[43moutput\u001b[49m\u001b[43m,\u001b[49m\u001b[43m \u001b[49m\u001b[43mtgt_seqs\u001b[49m\u001b[38;5;241;43m.\u001b[39;49m\u001b[43mview\u001b[49m\u001b[43m(\u001b[49m\u001b[38;5;241;43m-\u001b[39;49m\u001b[38;5;241;43m1\u001b[39;49m\u001b[43m)\u001b[49m\u001b[43m,\u001b[49m\u001b[43m \u001b[49m\u001b[43mignore_index\u001b[49m\u001b[43m \u001b[49m\u001b[38;5;241;43m=\u001b[39;49m\u001b[43m \u001b[49m\u001b[43mPADDING_VALUE\u001b[49m\u001b[43m)\u001b[49m\n\u001b[1;32m     28\u001b[0m loss\u001b[38;5;241m.\u001b[39mbackward()\n\u001b[1;32m     29\u001b[0m Encoder_optimizer\u001b[38;5;241m.\u001b[39mstep()\n",
      "File \u001b[0;32m/opt/software/lib/python3.9/site-packages/torch/nn/functional.py:2532\u001b[0m, in \u001b[0;36mnll_loss\u001b[0;34m(input, target, weight, size_average, ignore_index, reduce, reduction)\u001b[0m\n\u001b[1;32m   2530\u001b[0m \u001b[38;5;28;01mif\u001b[39;00m size_average \u001b[38;5;129;01mis\u001b[39;00m \u001b[38;5;129;01mnot\u001b[39;00m \u001b[38;5;28;01mNone\u001b[39;00m \u001b[38;5;129;01mor\u001b[39;00m reduce \u001b[38;5;129;01mis\u001b[39;00m \u001b[38;5;129;01mnot\u001b[39;00m \u001b[38;5;28;01mNone\u001b[39;00m:\n\u001b[1;32m   2531\u001b[0m     reduction \u001b[38;5;241m=\u001b[39m _Reduction\u001b[38;5;241m.\u001b[39mlegacy_get_string(size_average, reduce)\n\u001b[0;32m-> 2532\u001b[0m \u001b[38;5;28;01mreturn\u001b[39;00m \u001b[43mtorch\u001b[49m\u001b[38;5;241;43m.\u001b[39;49m\u001b[43m_C\u001b[49m\u001b[38;5;241;43m.\u001b[39;49m\u001b[43m_nn\u001b[49m\u001b[38;5;241;43m.\u001b[39;49m\u001b[43mnll_loss_nd\u001b[49m\u001b[43m(\u001b[49m\u001b[38;5;28;43minput\u001b[39;49m\u001b[43m,\u001b[49m\u001b[43m \u001b[49m\u001b[43mtarget\u001b[49m\u001b[43m,\u001b[49m\u001b[43m \u001b[49m\u001b[43mweight\u001b[49m\u001b[43m,\u001b[49m\u001b[43m \u001b[49m\u001b[43m_Reduction\u001b[49m\u001b[38;5;241;43m.\u001b[39;49m\u001b[43mget_enum\u001b[49m\u001b[43m(\u001b[49m\u001b[43mreduction\u001b[49m\u001b[43m)\u001b[49m\u001b[43m,\u001b[49m\u001b[43m \u001b[49m\u001b[43mignore_index\u001b[49m\u001b[43m)\u001b[49m\n",
      "\u001b[0;31mValueError\u001b[0m: Expected input batch_size (4) to match target batch_size (20)."
     ]
    }
   ],
   "source": [
    "if not skip_training:\n",
    "    # YOUR CODE HERE\n",
    "    Encoder_optimizer = torch.optim.Adam(encoder.parameters(), lr = 0.001)\n",
    "    Decoder_optimizer = torch.optim.Adam(decoder.parameters(), lr = 0.001)\n",
    "    n_epochs = 30\n",
    "    criterion = F.nll_loss\n",
    "    \n",
    "    for i in range (n_epochs):\n",
    "        for src_seqs, src_seq_lengths, tgt_seqs in trainloader:\n",
    "            Encoder_optimizer.zero_grad()\n",
    "            Decoder_optimizer.zero_grad()\n",
    "            print(\"src_seq_lengths : \", src_seq_lengths)\n",
    "            \n",
    "            hidden = encoder.init_hidden(len(src_seq_lengths))\n",
    "            output , hidden = encoder.forward(src_seqs, src_seq_lengths, hidden)\n",
    "            print(\"encoder output_shape, hidden_shape\", output.shape, hidden.shape)\n",
    "            \n",
    "            teacher_forcing = True if random.random() < teacher_forcing_ratio else False\n",
    "            #teacher_forcing = True\n",
    "            \n",
    "            output, hidden = decoder.forward(hidden,tgt_sentence,teacher_forcing)\n",
    "            print(\"output, tgt_seqs: \\n\\n\", output.shape, tgt_seqs)\n",
    "            \n",
    "            output = torch.flatten(output,end_dim=1)\n",
    "            print(\"output: \",output.shape)\n",
    "            loss = criterion(output, tgt_seqs.view(-1), ignore_index = PADDING_VALUE)\n",
    "            \n",
    "            loss.backward()\n",
    "            Encoder_optimizer.step()\n",
    "            Decoder_optimizer.step()\n",
    "    \n",
    "    #raise NotImplementedError()"
   ]
  },
  {
   "cell_type": "code",
   "execution_count": 34,
   "metadata": {},
   "outputs": [
    {
     "name": "stdout",
     "output_type": "stream",
     "text": [
      "Do you want to save the model (type yes to confirm)? no\n",
      "Model not saved.\n",
      "Do you want to save the model (type yes to confirm)? no\n",
      "Model not saved.\n"
     ]
    }
   ],
   "source": [
    "# Save the model to disk (the pth-files will be submitted automatically together with your notebook)\n",
    "# Set confirm=False if you do not want to be asked for confirmation before saving.\n",
    "if not skip_training:\n",
    "    tools.save_model(encoder, '1_rnn_encoder.pth', confirm=True)\n",
    "    tools.save_model(decoder, '1_rnn_decoder.pth', confirm=True)"
   ]
  },
  {
   "cell_type": "code",
   "execution_count": null,
   "metadata": {
    "deletable": false,
    "editable": false,
    "nbgrader": {
     "cell_type": "code",
     "checksum": "41f02c333feda1857a71e152a65a1d53",
     "grade": false,
     "grade_id": "cell-cb9033683841ebab",
     "locked": true,
     "schema_version": 3,
     "solution": false,
     "task": false
    }
   },
   "outputs": [],
   "source": [
    "if skip_training:\n",
    "    hidden_size = 256\n",
    "    encoder = Encoder(trainset.input_lang.n_words, embed_size, hidden_size)\n",
    "    tools.load_model(encoder, '1_rnn_encoder.pth', device)\n",
    "    \n",
    "    decoder = Decoder(trainset.output_lang.n_words, embed_size, hidden_size)\n",
    "    tools.load_model(decoder, '1_rnn_decoder.pth', device)"
   ]
  },
  {
   "cell_type": "code",
   "execution_count": null,
   "metadata": {
    "deletable": false,
    "editable": false,
    "nbgrader": {
     "cell_type": "code",
     "checksum": "6f3ba6e63d83529028b6a4aab2ee7d9f",
     "grade": true,
     "grade_id": "test_accuracy",
     "locked": true,
     "points": 2,
     "schema_version": 3,
     "solution": false,
     "task": false
    }
   },
   "outputs": [],
   "source": [
    "# This cell tests training accuracy"
   ]
  },
  {
   "cell_type": "markdown",
   "metadata": {
    "deletable": false,
    "editable": false,
    "nbgrader": {
     "cell_type": "markdown",
     "checksum": "96a617d060e534a0f6981e6e7c20d00b",
     "grade": false,
     "grade_id": "cell-25e4072e5588afaa",
     "locked": true,
     "schema_version": 3,
     "solution": false
    }
   },
   "source": [
    "## Evaluation\n",
    "\n",
    "Next we need to implement a function that converts input sequences to output sequences using the trained sequence-to-sequence model.\n",
    "\n",
    "Notes:\n",
    "* Since we do not need to compute the gradients in the evaluation phase, we can speed up the computations by using the statement `with torch.no_grad():`.\n",
    "* Please transfer the tensors to `device` inside this function."
   ]
  },
  {
   "cell_type": "code",
   "execution_count": null,
   "metadata": {
    "deletable": false,
    "nbgrader": {
     "cell_type": "code",
     "checksum": "1a3ce2d2714284bbe39dc0dd879f3478",
     "grade": false,
     "grade_id": "cell-1d90b47e7cbf1cc9",
     "locked": false,
     "schema_version": 3,
     "solution": true,
     "task": false
    }
   },
   "outputs": [],
   "source": [
    "def translate(encoder, decoder, pad_src_seqs, src_seq_lengths):\n",
    "    \"\"\"Translate sequences from the source language to the target language using the trained model.\n",
    "    \n",
    "    Args:\n",
    "      encoder (Encoder): Trained encoder.\n",
    "      decoder (Decoder): Trained decoder.\n",
    "      pad_src_seqs of shape (max_src_seq_length, batch_size): Padded source sequences.\n",
    "      src_seq_lengths: List of source sequence lengths.\n",
    "    \n",
    "    Returns:\n",
    "      out_seqs of shape (MAX_LENGTH, batch_size): LongTensor of word indices of the output sequences.\n",
    "    \"\"\"\n",
    "    # YOUR CODE HERE\n",
    "    raise NotImplementedError()"
   ]
  },
  {
   "cell_type": "code",
   "execution_count": null,
   "metadata": {
    "deletable": false,
    "editable": false,
    "nbgrader": {
     "cell_type": "code",
     "checksum": "c459aea453b88e64d5be88edbe651f95",
     "grade": false,
     "grade_id": "cell-149ce7a6eeca1021",
     "locked": true,
     "schema_version": 3,
     "solution": false,
     "task": false
    }
   },
   "outputs": [],
   "source": [
    "def test_translate_shapes():\n",
    "    pad_src_seqs = torch.tensor([\n",
    "        [1, 2],\n",
    "        [2, 3],\n",
    "        [3, 0],\n",
    "        [4, 0]\n",
    "    ])\n",
    "\n",
    "    out_seqs = translate(encoder, decoder, pad_src_seqs, src_seq_lengths=[4, 2])\n",
    "    assert out_seqs.shape == torch.Size([MAX_LENGTH, 2]), f\"Wrong out_seqs.shape: {out_seqs.shape}\"\n",
    "    print('Success')\n",
    "\n",
    "test_translate_shapes()"
   ]
  },
  {
   "cell_type": "markdown",
   "metadata": {
    "deletable": false,
    "editable": false,
    "nbgrader": {
     "cell_type": "markdown",
     "checksum": "a509243e324c5111aaf064a0aaf64b56",
     "grade": false,
     "grade_id": "cell-caa93c3b88e0d8e0",
     "locked": true,
     "schema_version": 3,
     "solution": false,
     "task": false
    }
   },
   "source": [
    "Let us now translate a few sentences from the training set and print the source, target, and produced output.\n",
    "\n",
    "If you trained the model well enough, the model should memorize the training data well."
   ]
  },
  {
   "cell_type": "code",
   "execution_count": null,
   "metadata": {
    "deletable": false,
    "editable": false,
    "nbgrader": {
     "cell_type": "code",
     "checksum": "98212370873fb2a1bc0d0189cbc6ea36",
     "grade": false,
     "grade_id": "cell-444ba3ba61c6db91",
     "locked": true,
     "schema_version": 3,
     "solution": false,
     "task": false
    }
   },
   "outputs": [],
   "source": [
    "def seq_to_tokens(seq, lang):\n",
    "    'Convert a sequence of word indices into a list of words (strings).'\n",
    "    sentence = []\n",
    "    for i in seq:\n",
    "        if i == EOS_token:\n",
    "            break\n",
    "        sentence.append(lang.index2word[i.item()])\n",
    "    return(sentence)\n",
    "\n",
    "def seq_to_string(seq, lang):\n",
    "    'Convert a sequence of word indices into a sentence string.'\n",
    "    return(' '.join(seq_to_tokens(seq, lang)))"
   ]
  },
  {
   "cell_type": "code",
   "execution_count": null,
   "metadata": {
    "deletable": false,
    "editable": false,
    "nbgrader": {
     "cell_type": "code",
     "checksum": "82f902fa3e4af596b501085007b0c419",
     "grade": false,
     "grade_id": "cell-e3bfe231f4ca66d2",
     "locked": true,
     "schema_version": 3,
     "solution": false,
     "task": false
    }
   },
   "outputs": [],
   "source": [
    "# Translate a few sentences from the training set\n",
    "print('Translate training data:')\n",
    "print('-----------------------------')\n",
    "pad_src_seqs, src_seq_lengths, pad_tgt_seqs = next(iter(trainloader))\n",
    "out_seqs = translate(encoder, decoder, pad_src_seqs, src_seq_lengths)\n",
    "\n",
    "for i in range(5):\n",
    "    print('SRC:', seq_to_string(pad_src_seqs[:,i], trainset.input_lang))\n",
    "    print('TGT:', seq_to_string(pad_tgt_seqs[:,i], trainset.output_lang))\n",
    "    print('OUT:', seq_to_string(out_seqs[:,i], trainset.output_lang))\n",
    "    print('')"
   ]
  },
  {
   "cell_type": "markdown",
   "metadata": {
    "deletable": false,
    "editable": false,
    "nbgrader": {
     "cell_type": "markdown",
     "checksum": "249b5575795aa35f76ff5c9122471fe9",
     "grade": false,
     "grade_id": "cell-66cbefeb6952d610",
     "locked": true,
     "schema_version": 3,
     "solution": false,
     "task": false
    }
   },
   "source": [
    "Now we translate random sentences from the test set. A well-trained model should output sentences that look similar to the target ones. The mistakes are usually done for words that were rare in the training set."
   ]
  },
  {
   "cell_type": "code",
   "execution_count": null,
   "metadata": {
    "deletable": false,
    "editable": false,
    "nbgrader": {
     "cell_type": "code",
     "checksum": "bc007c19783ab3b0e6f1a8ca7bf2bc5b",
     "grade": false,
     "grade_id": "cell-cd6dbabc07e7e01d",
     "locked": true,
     "schema_version": 3,
     "solution": false,
     "task": false
    }
   },
   "outputs": [],
   "source": [
    "testset = TranslationDataset(data_dir, train=False)\n",
    "testloader = DataLoader(dataset=testset, batch_size=64, shuffle=False, collate_fn=collate)"
   ]
  },
  {
   "cell_type": "code",
   "execution_count": null,
   "metadata": {
    "deletable": false,
    "editable": false,
    "nbgrader": {
     "cell_type": "code",
     "checksum": "01a04d9631b3e26c2df1dc8d59688a17",
     "grade": false,
     "grade_id": "cell-135c99847babe153",
     "locked": true,
     "schema_version": 3,
     "solution": false,
     "task": false
    }
   },
   "outputs": [],
   "source": [
    "print('Translate test data:')\n",
    "print('-----------------------------')\n",
    "pad_src_seqs, src_seq_lengths, pad_tgt_seqs = next(iter(testloader))\n",
    "out_seqs = translate(encoder, decoder, pad_src_seqs, src_seq_lengths)\n",
    "\n",
    "for i in range(5):\n",
    "    print('SRC:', seq_to_string(pad_src_seqs[:,i], testset.input_lang))\n",
    "    print('TGT:', seq_to_string(pad_tgt_seqs[:,i], testset.output_lang))\n",
    "    print('OUT:', seq_to_string(out_seqs[:,i], testset.output_lang))\n",
    "    print('')"
   ]
  },
  {
   "cell_type": "markdown",
   "metadata": {
    "deletable": false,
    "editable": false,
    "nbgrader": {
     "cell_type": "markdown",
     "checksum": "e08dc0b10bca100c75eaa85789c9ea27",
     "grade": false,
     "grade_id": "cell-1cfd09f0808e511c",
     "locked": true,
     "schema_version": 3,
     "solution": false,
     "task": false
    }
   },
   "source": [
    "## Compute BLEU score\n",
    "\n",
    "Let us now compute the [BLEU score](https://en.wikipedia.org/wiki/BLEU) for the translations produced by our model. We can use the PyTorch function [bleu_score](https://pytorch.org/text/data_metrics.html#torchtext.data.metrics.bleu_score) for that.\n",
    "\n",
    "* **Your model should achieve a minimum BLEU score of 90 on the training set.**\n",
    "* The BLEU score on the test set should be greater than 40.\n",
    "\n",
    "The model can severly overfit to the training set and we do not cope with the overfitting problem in this exercise."
   ]
  },
  {
   "cell_type": "code",
   "execution_count": null,
   "metadata": {
    "deletable": false,
    "editable": false,
    "nbgrader": {
     "cell_type": "code",
     "checksum": "51d6a35b286e16218271c80309237a07",
     "grade": false,
     "grade_id": "cell-c7c83e4783126f91",
     "locked": true,
     "schema_version": 3,
     "solution": false,
     "task": false
    }
   },
   "outputs": [],
   "source": [
    "from torchtext.data.metrics import bleu_score"
   ]
  },
  {
   "cell_type": "code",
   "execution_count": null,
   "metadata": {
    "deletable": false,
    "editable": false,
    "nbgrader": {
     "cell_type": "code",
     "checksum": "b14071c9e20b3ed2969814459ebf12f9",
     "grade": true,
     "grade_id": "cell-d9e870bdbb7a77aa",
     "locked": true,
     "points": 1,
     "schema_version": 3,
     "solution": false,
     "task": false
    }
   },
   "outputs": [],
   "source": [
    "# Create translations for the training set\n",
    "candidate_corpus = []\n",
    "references_corpus = []\n",
    "for pad_src_seqs, src_seq_lengths, pad_tgt_seqs in trainloader:\n",
    "    out_seqs = translate(encoder, decoder, pad_src_seqs, src_seq_lengths)\n",
    "    candidate_corpus.extend([seq_to_tokens(seq, trainset.output_lang) for seq in out_seqs.T])\n",
    "    references_corpus.extend([[seq_to_tokens(seq, trainset.output_lang)] for seq in pad_tgt_seqs.T])\n",
    "\n",
    "# Compute BLEU for translations\n",
    "score = bleu_score(candidate_corpus, references_corpus)\n",
    "print(f'BLEU score on training data: {score*100}')\n",
    "assert score*100 > 90, \"The BLEU score is too low.\""
   ]
  },
  {
   "cell_type": "code",
   "execution_count": null,
   "metadata": {
    "deletable": false,
    "editable": false,
    "nbgrader": {
     "cell_type": "code",
     "checksum": "156c000eef2a4d8dfcb638e3d77403d8",
     "grade": true,
     "grade_id": "cell-6960c91a78696fe7",
     "locked": true,
     "points": 1,
     "schema_version": 3,
     "solution": false,
     "task": false
    }
   },
   "outputs": [],
   "source": [
    "# Create translations for the test set\n",
    "candidate_corpus = []\n",
    "references_corpus = []\n",
    "for pad_src_seqs, src_seq_lengths, pad_tgt_seqs in testloader:\n",
    "    out_seqs = translate(encoder, decoder, pad_src_seqs, src_seq_lengths)\n",
    "    candidate_corpus.extend([seq_to_tokens(seq, testset.output_lang) for seq in out_seqs.T])\n",
    "    references_corpus.extend([[seq_to_tokens(seq, testset.output_lang)] for seq in pad_tgt_seqs.T])\n",
    "\n",
    "# Compute BLEU for translations\n",
    "score = bleu_score(candidate_corpus, references_corpus)\n",
    "print(f'BLEU score on test data: {score*100}')\n",
    "assert score*100 > 40, \"The BLEU score is too low.\""
   ]
  },
  {
   "cell_type": "markdown",
   "metadata": {
    "deletable": false,
    "editable": false,
    "nbgrader": {
     "cell_type": "markdown",
     "checksum": "7bb3216ab2284b419d084dd20e6b6283",
     "grade": false,
     "grade_id": "cell-3e93ef4953126093",
     "locked": true,
     "schema_version": 3,
     "solution": false,
     "task": false
    }
   },
   "source": [
    "<div class=\"alert alert-block alert-info\">\n",
    "<b>Conclusion</b>\n",
    "</div>\n",
    "\n",
    "In this notebook:\n",
    "* We learned how recurrent neural networks can be used to build a sequence-to-sequence model.\n",
    "* We trained a sequence-to-sequence model for statistical machine translation."
   ]
  }
 ],
 "metadata": {
  "kernelspec": {
   "display_name": "Python 3",
   "language": "python",
   "name": "python3"
  },
  "language_info": {
   "codemirror_mode": {
    "name": "ipython",
    "version": 3
   },
   "file_extension": ".py",
   "mimetype": "text/x-python",
   "name": "python",
   "nbconvert_exporter": "python",
   "pygments_lexer": "ipython3",
   "version": "3.9.5"
  },
  "varInspector": {
   "cols": {
    "lenName": 16,
    "lenType": 16,
    "lenVar": 40
   },
   "kernels_config": {
    "python": {
     "delete_cmd_postfix": "",
     "delete_cmd_prefix": "del ",
     "library": "var_list.py",
     "varRefreshCmd": "print(var_dic_list())"
    },
    "r": {
     "delete_cmd_postfix": ") ",
     "delete_cmd_prefix": "rm(",
     "library": "var_list.r",
     "varRefreshCmd": "cat(var_dic_list()) "
    }
   },
   "types_to_exclude": [
    "module",
    "function",
    "builtin_function_or_method",
    "instance",
    "_Feature"
   ],
   "window_display": false
  }
 },
 "nbformat": 4,
 "nbformat_minor": 2
}
